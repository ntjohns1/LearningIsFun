{
  "nbformat": 4,
  "nbformat_minor": 0,
  "metadata": {
    "colab": {
      "provenance": [],
      "authorship_tag": "ABX9TyOCDa7yNYPP70SRXRg6b1AX",
      "include_colab_link": true
    },
    "kernelspec": {
      "name": "python3",
      "display_name": "Python 3"
    },
    "language_info": {
      "name": "python"
    }
  },
  "cells": [
    {
      "cell_type": "markdown",
      "metadata": {
        "id": "view-in-github",
        "colab_type": "text"
      },
      "source": [
        "<a href=\"https://colab.research.google.com/github/ntjohns1/LearningIsFun/blob/main/Chollet_Reuters_Example.ipynb\" target=\"_parent\"><img src=\"https://colab.research.google.com/assets/colab-badge.svg\" alt=\"Open In Colab\"/></a>"
      ]
    },
    {
      "cell_type": "code",
      "execution_count": null,
      "metadata": {
        "id": "3Cb2onm4xJKT",
        "colab": {
          "base_uri": "https://localhost:8080/"
        },
        "outputId": "9134d7b6-b48d-4dfb-b24c-437bfcd23bc2"
      },
      "outputs": [
        {
          "output_type": "stream",
          "name": "stdout",
          "text": [
            "Downloading data from https://storage.googleapis.com/tensorflow/tf-keras-datasets/reuters.npz\n",
            "2110848/2110848 [==============================] - 0s 0us/step\n"
          ]
        }
      ],
      "source": [
        "from tensorflow import keras\n",
        "from tensorflow.keras import layers\n",
        "from tensorflow.keras.datasets import reuters\n",
        "\n",
        "(train_data, train_labels), (test_data, test_labels) = reuters.load_data(\n",
        "    num_words=10000)\n",
        "\n",
        "\n"
      ]
    },
    {
      "cell_type": "markdown",
      "source": [
        "# Decode the Reuters data\n"
      ],
      "metadata": {
        "id": "ynihufNmXzOT"
      }
    },
    {
      "cell_type": "code",
      "source": [
        "word_index = reuters.get_word_index()\n",
        "reverse_word_index = dict(\n",
        "    [(value, key) for (key,value) in word_index.items()])\n",
        "decoded_newswire = \" \".join(\n",
        "    [reverse_word_index.get(i - 3, \"?\") for i in train_data[0]])\n",
        "print(decoded_newswire)"
      ],
      "metadata": {
        "colab": {
          "base_uri": "https://localhost:8080/"
        },
        "id": "4A3T-SvcXhte",
        "outputId": "1c0dbea4-6ce0-482e-8c24-37d48b3259db"
      },
      "execution_count": null,
      "outputs": [
        {
          "output_type": "stream",
          "name": "stdout",
          "text": [
            "Downloading data from https://storage.googleapis.com/tensorflow/tf-keras-datasets/reuters_word_index.json\n",
            "550378/550378 [==============================] - 0s 0us/step\n",
            "? ? ? said as a result of its december acquisition of space co it expects earnings per share in 1987 of 1 15 to 1 30 dlrs per share up from 70 cts in 1986 the company said pretax net should rise to nine to 10 mln dlrs from six mln dlrs in 1986 and rental operation revenues to 19 to 22 mln dlrs from 12 5 mln dlrs it said cash flow per share this year should be 2 50 to three dlrs reuter 3\n"
          ]
        }
      ]
    },
    {
      "cell_type": "code",
      "source": [
        "train_labels[10]"
      ],
      "metadata": {
        "colab": {
          "base_uri": "https://localhost:8080/"
        },
        "id": "8Oi7WwH5YLT_",
        "outputId": "46d5cfe6-e080-4d16-e141-cc4f615c5177"
      },
      "execution_count": null,
      "outputs": [
        {
          "output_type": "execute_result",
          "data": {
            "text/plain": [
              "3"
            ]
          },
          "metadata": {},
          "execution_count": 3
        }
      ]
    },
    {
      "cell_type": "code",
      "source": [
        "import numpy as np\n",
        "def vectorize_sequences(sequences, dimension=10000):\n",
        "    results = np.zeros((len(sequences), dimension))\n",
        "    for i, sequence in enumerate(sequences):\n",
        "        for j in sequence:\n",
        "            results[i, j] = 1.\n",
        "    return results\n",
        "\n",
        "x_train = vectorize_sequences(train_data)\n",
        "x_test = vectorize_sequences(test_data)"
      ],
      "metadata": {
        "id": "va0ZYj_0YvFn"
      },
      "execution_count": null,
      "outputs": []
    },
    {
      "cell_type": "code",
      "source": [
        "from tensorflow.keras.utils import to_categorical\n",
        "y_train = to_categorical(train_labels)\n",
        "y_test = to_categorical(test_labels)"
      ],
      "metadata": {
        "id": "hUJ0nqq5ZL8P"
      },
      "execution_count": null,
      "outputs": []
    },
    {
      "cell_type": "markdown",
      "source": [
        "# to_categorical is the built-in method for this one-hot encoding function:"
      ],
      "metadata": {
        "id": "VuPCOv-9ZU2Q"
      }
    },
    {
      "cell_type": "code",
      "source": [
        "def to_one_hot(labels, dimension=46):\n",
        "    results = np.zeros((len(labels), dimension))\n",
        "    for i, label in enumerate(labels):\n",
        "        results[i, label] = 1.\n",
        "    return results\n",
        "y_train = to_one_hot(train_labels)\n",
        "y_test = to_one_hot(test_labels)"
      ],
      "metadata": {
        "id": "nC-n7jqIZRfV"
      },
      "execution_count": null,
      "outputs": []
    },
    {
      "cell_type": "code",
      "source": [
        "from tensorflow import keras\n",
        "from tensorflow.keras import layers\n",
        "\n",
        "model = keras.Sequential([\n",
        "    layers.Dense(64, activation=\"relu\"),\n",
        "    layers.Dense(64, activation=\"relu\"),\n",
        "    layers.Dense(64, activation=\"relu\"),\n",
        "    layers.Dense(46, activation=\"softmax\")\n",
        "])"
      ],
      "metadata": {
        "id": "upzutrHgaNhl"
      },
      "execution_count": null,
      "outputs": []
    },
    {
      "cell_type": "code",
      "source": [
        "model.compile(optimizer=\"rmsprop\",\n",
        "loss=\"categorical_crossentropy\",\n",
        "metrics=[\"accuracy\"])"
      ],
      "metadata": {
        "id": "aJ0UDiW5aSL5"
      },
      "execution_count": null,
      "outputs": []
    },
    {
      "cell_type": "code",
      "source": [
        "x_val = x_train[:1000]\n",
        "partial_x_train = x_train[1000:]\n",
        "y_val = y_train[:1000]\n",
        "partial_y_train = y_train[1000:]"
      ],
      "metadata": {
        "id": "RHNocXH6asoy"
      },
      "execution_count": null,
      "outputs": []
    },
    {
      "cell_type": "code",
      "source": [
        "history = model.fit(partial_x_train,\n",
        "                    partial_y_train,\n",
        "                    epochs=20,\n",
        "                    batch_size=512,\n",
        "                    validation_data=(x_val,y_val))"
      ],
      "metadata": {
        "colab": {
          "base_uri": "https://localhost:8080/"
        },
        "id": "EDijqhUHcuPd",
        "outputId": "b911f807-5615-4c2d-f12e-101587fccdd9"
      },
      "execution_count": null,
      "outputs": [
        {
          "output_type": "stream",
          "name": "stdout",
          "text": [
            "Epoch 1/20\n",
            "16/16 [==============================] - 2s 91ms/step - loss: 2.6097 - accuracy: 0.5025 - val_loss: 1.7082 - val_accuracy: 0.6360\n",
            "Epoch 2/20\n",
            "16/16 [==============================] - 2s 95ms/step - loss: 1.5096 - accuracy: 0.6756 - val_loss: 1.3898 - val_accuracy: 0.6870\n",
            "Epoch 3/20\n",
            "16/16 [==============================] - 1s 89ms/step - loss: 1.1960 - accuracy: 0.7270 - val_loss: 1.2181 - val_accuracy: 0.7180\n",
            "Epoch 4/20\n",
            "16/16 [==============================] - 1s 54ms/step - loss: 0.9918 - accuracy: 0.7740 - val_loss: 1.0987 - val_accuracy: 0.7570\n",
            "Epoch 5/20\n",
            "16/16 [==============================] - 1s 57ms/step - loss: 0.8243 - accuracy: 0.8165 - val_loss: 1.0313 - val_accuracy: 0.7820\n",
            "Epoch 6/20\n",
            "16/16 [==============================] - 1s 57ms/step - loss: 0.6719 - accuracy: 0.8493 - val_loss: 0.9853 - val_accuracy: 0.7920\n",
            "Epoch 7/20\n",
            "16/16 [==============================] - 1s 59ms/step - loss: 0.5527 - accuracy: 0.8785 - val_loss: 0.9506 - val_accuracy: 0.8020\n",
            "Epoch 8/20\n",
            "16/16 [==============================] - 1s 55ms/step - loss: 0.4571 - accuracy: 0.8965 - val_loss: 0.9848 - val_accuracy: 0.8010\n",
            "Epoch 9/20\n",
            "16/16 [==============================] - 1s 59ms/step - loss: 0.3786 - accuracy: 0.9192 - val_loss: 0.9513 - val_accuracy: 0.8060\n",
            "Epoch 10/20\n",
            "16/16 [==============================] - 1s 55ms/step - loss: 0.3255 - accuracy: 0.9297 - val_loss: 0.9469 - val_accuracy: 0.8020\n",
            "Epoch 11/20\n",
            "16/16 [==============================] - 1s 58ms/step - loss: 0.2804 - accuracy: 0.9377 - val_loss: 0.9425 - val_accuracy: 0.8000\n",
            "Epoch 12/20\n",
            "16/16 [==============================] - 1s 55ms/step - loss: 0.2479 - accuracy: 0.9431 - val_loss: 0.9936 - val_accuracy: 0.8060\n",
            "Epoch 13/20\n",
            "16/16 [==============================] - 1s 51ms/step - loss: 0.2168 - accuracy: 0.9485 - val_loss: 0.9900 - val_accuracy: 0.8070\n",
            "Epoch 14/20\n",
            "16/16 [==============================] - 1s 55ms/step - loss: 0.2017 - accuracy: 0.9486 - val_loss: 1.1547 - val_accuracy: 0.7690\n",
            "Epoch 15/20\n",
            "16/16 [==============================] - 1s 83ms/step - loss: 0.1749 - accuracy: 0.9530 - val_loss: 1.0952 - val_accuracy: 0.8080\n",
            "Epoch 16/20\n",
            "16/16 [==============================] - 1s 86ms/step - loss: 0.1630 - accuracy: 0.9551 - val_loss: 1.0492 - val_accuracy: 0.8110\n",
            "Epoch 17/20\n",
            "16/16 [==============================] - 1s 67ms/step - loss: 0.1620 - accuracy: 0.9549 - val_loss: 1.0662 - val_accuracy: 0.7980\n",
            "Epoch 18/20\n",
            "16/16 [==============================] - 1s 51ms/step - loss: 0.1494 - accuracy: 0.9551 - val_loss: 1.0810 - val_accuracy: 0.8020\n",
            "Epoch 19/20\n",
            "16/16 [==============================] - 1s 54ms/step - loss: 0.1439 - accuracy: 0.9568 - val_loss: 1.0945 - val_accuracy: 0.8010\n",
            "Epoch 20/20\n",
            "16/16 [==============================] - 1s 53ms/step - loss: 0.1417 - accuracy: 0.9584 - val_loss: 1.0655 - val_accuracy: 0.8080\n"
          ]
        }
      ]
    },
    {
      "cell_type": "code",
      "source": [
        "import matplotlib.pyplot as plt\n",
        "\n",
        "loss = history.history[\"loss\"]\n",
        "val_loss = history.history[\"val_loss\"]\n",
        "epochs = range(1, len(loss) + 1)\n",
        "plt.plot(epochs, loss, \"bo\", label=\"Training loss\")\n",
        "plt.plot(epochs, val_loss, \"b\", label=\"Validation loss\")\n",
        "plt.title(\"Training and validation loss\")\n",
        "plt.xlabel(\"Epochs\")\n",
        "plt.ylabel(\"Loss\")\n",
        "plt.legend()\n",
        "plt.show()"
      ],
      "metadata": {
        "colab": {
          "base_uri": "https://localhost:8080/",
          "height": 472
        },
        "id": "FOeaw-Kid_Lb",
        "outputId": "7713ebad-524f-42e4-c1fc-0a1b23389f0e"
      },
      "execution_count": null,
      "outputs": [
        {
          "output_type": "display_data",
          "data": {
            "text/plain": [
              "<Figure size 640x480 with 1 Axes>"
            ],
            "image/png": "[encoded data removed]"
          },
          "metadata": {}
        }
      ]
    },
    {
      "cell_type": "code",
      "source": [
        "plt.clf()\n",
        "acc = history.history[\"accuracy\"]\n",
        "val_acc = history.history[\"val_accuracy\"]\n",
        "plt.plot(epochs, acc, \"bo\", label=\"Training accuracy\")\n",
        "plt.plot(epochs, val_acc, \"b\", label=\"Validation accuracy\")\n",
        "plt.title(\"Training and validation accuracy\")\n",
        "plt.xlabel(\"Epochs\")\n",
        "plt.ylabel(\"Accuracy\")\n",
        "plt.legend()\n",
        "plt.show()"
      ],
      "metadata": {
        "colab": {
          "base_uri": "https://localhost:8080/",
          "height": 472
        },
        "id": "rwLxqX7MeLBl",
        "outputId": "e015abd1-ea12-4562-9c08-a41c14b3ff4c"
      },
      "execution_count": null,
      "outputs": [
        {
          "output_type": "display_data",
          "data": {
            "text/plain": [
              "<Figure size 640x480 with 1 Axes>"
            ],
            "image/png": "[encoded data removed]"
          },
          "metadata": {}
        }
      ]
    },
    {
      "cell_type": "markdown",
      "source": [
        "\"As you can see, the training loss decreases with every epoch, and the training accuracy\n",
        "increases with every epoch. That’s what you would expect when running gradientdescent\n",
        "optimization—the quantity you’re trying to minimize should be less with\n",
        "every iteration. But that isn’t the case for the validation loss and accuracy: they seem to\n",
        "peak at the fourth epoch. This is an example of what we warned against earlier: a\n",
        "model that performs better on the training data isn’t necessarily a model that will\n",
        "do better on data it has never seen before. **In precise terms, what you’re seeing is\n",
        "overfitting: after the fourth epoch, you’re overoptimizing on the training data, and you\n",
        "end up learning representations that are specific to the training data and don’t generalize\n",
        "to data outside of the training set.\"**\n",
        "-Chollet pg 104"
      ],
      "metadata": {
        "id": "wvQYkLjWYtX_"
      }
    },
    {
      "cell_type": "markdown",
      "source": [
        "# Retrain the Model From Scratch"
      ],
      "metadata": {
        "id": "s28xTM6-eyth"
      }
    },
    {
      "cell_type": "code",
      "source": [
        "model = keras.Sequential([\n",
        "    layers.Dense(64, activation=\"relu\"),\n",
        "    layers.Dense(64, activation=\"relu\"),\n",
        "    layers.Dense(46, activation=\"softmax\")\n",
        "])\n",
        "model.compile(optimizer=\"rmsprop\",\n",
        "              loss=\"categorical_crossentropy\",\n",
        "              metrics=[\"accuracy\"])\n",
        "model.fit(x_train,\n",
        "          y_train,\n",
        "          epochs=9,\n",
        "          batch_size=512)\n",
        "results = model.evaluate(x_test, y_test)"
      ],
      "metadata": {
        "colab": {
          "base_uri": "https://localhost:8080/"
        },
        "id": "61pqWgKJe-Sq",
        "outputId": "5c19b82c-91b9-4940-88c9-abede010c62b"
      },
      "execution_count": null,
      "outputs": [
        {
          "output_type": "stream",
          "name": "stdout",
          "text": [
            "Epoch 1/9\n",
            "18/18 [==============================] - 2s 54ms/step - loss: 2.6201 - accuracy: 0.4940\n",
            "Epoch 2/9\n",
            "18/18 [==============================] - 1s 50ms/step - loss: 1.4637 - accuracy: 0.6870\n",
            "Epoch 3/9\n",
            "18/18 [==============================] - 1s 48ms/step - loss: 1.1217 - accuracy: 0.7537\n",
            "Epoch 4/9\n",
            "18/18 [==============================] - 1s 51ms/step - loss: 0.9091 - accuracy: 0.8005\n",
            "Epoch 5/9\n",
            "18/18 [==============================] - 1s 52ms/step - loss: 0.7488 - accuracy: 0.8372\n",
            "Epoch 6/9\n",
            "18/18 [==============================] - 1s 50ms/step - loss: 0.6212 - accuracy: 0.8664\n",
            "Epoch 7/9\n",
            "18/18 [==============================] - 1s 48ms/step - loss: 0.5170 - accuracy: 0.8916\n",
            "Epoch 8/9\n",
            "18/18 [==============================] - 1s 81ms/step - loss: 0.4395 - accuracy: 0.9040\n",
            "Epoch 9/9\n",
            "18/18 [==============================] - 1s 74ms/step - loss: 0.3704 - accuracy: 0.9188\n",
            "71/71 [==============================] - 0s 4ms/step - loss: 0.8910 - accuracy: 0.7961\n"
          ]
        }
      ]
    },
    {
      "cell_type": "code",
      "source": [
        "results"
      ],
      "metadata": {
        "colab": {
          "base_uri": "https://localhost:8080/"
        },
        "id": "YIYj3BHZfhLb",
        "outputId": "d7f0377b-33ba-4d77-cb81-62f1b58d9b39"
      },
      "execution_count": null,
      "outputs": [
        {
          "output_type": "execute_result",
          "data": {
            "text/plain": [
              "[0.9336729049682617, 0.7947462201118469]"
            ]
          },
          "metadata": {},
          "execution_count": 34
        }
      ]
    },
    {
      "cell_type": "code",
      "source": [
        "predictions = model.predict(x_test)"
      ],
      "metadata": {
        "colab": {
          "base_uri": "https://localhost:8080/"
        },
        "id": "OZ3WqMw1j00k",
        "outputId": "3bac6dcd-e846-4947-8eb1-2f645d30375e"
      },
      "execution_count": null,
      "outputs": [
        {
          "output_type": "stream",
          "name": "stdout",
          "text": [
            "71/71 [==============================] - 0s 4ms/step\n"
          ]
        }
      ]
    },
    {
      "cell_type": "code",
      "source": [
        "np.sum(predictions[0])"
      ],
      "metadata": {
        "colab": {
          "base_uri": "https://localhost:8080/"
        },
        "id": "a4QJoDwrkGKL",
        "outputId": "4e47eb9f-fd46-4657-b9dd-7b4a368bcffe"
      },
      "execution_count": null,
      "outputs": [
        {
          "output_type": "execute_result",
          "data": {
            "text/plain": [
              "0.9999999"
            ]
          },
          "metadata": {},
          "execution_count": 21
        }
      ]
    },
    {
      "cell_type": "code",
      "source": [
        "np.argmax(predictions[0])"
      ],
      "metadata": {
        "colab": {
          "base_uri": "https://localhost:8080/"
        },
        "id": "ZEziJcDTkgLn",
        "outputId": "b9902c8f-ebf0-4e3e-bc89-1276c9f51942"
      },
      "execution_count": null,
      "outputs": [
        {
          "output_type": "execute_result",
          "data": {
            "text/plain": [
              "3"
            ]
          },
          "metadata": {},
          "execution_count": 22
        }
      ]
    }
  ]
}