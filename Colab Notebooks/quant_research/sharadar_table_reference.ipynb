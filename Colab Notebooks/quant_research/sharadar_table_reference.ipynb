{
 "cells": [
  {
   "cell_type": "markdown",
   "metadata": {},
   "source": [
    "# Sharadar Table Info\n"
   ]
  },
  {
   "cell_type": "code",
   "execution_count": 10,
   "metadata": {},
   "outputs": [],
   "source": [
    "import requests\n",
    "import json\n",
    "import schedule\n",
    "import time\n",
    "import datetime\n",
    "from dotenv import load_dotenv\n",
    "import os\n",
    "from pymongo import MongoClient\n",
    "import nasdaqdatalink\n",
    "import matplotlib.pyplot as plt\n",
    "import seaborn as sns\n",
    "\n",
    "\n",
    "load_dotenv('Colab Notebooks/.env')\n",
    "api_key=os.getenv(\"NASDAQ_DATA_LINK_API_KEY\")\n",
    "nasdaqdatalink.ApiConfig.api_key = api_key"
   ]
  },
  {
   "cell_type": "markdown",
   "metadata": {},
   "source": [
    "\n",
    "## Core US Fundamentals Data\n",
    "* SHARADAR/SF1\n",
    "* SHARADAR/DAILY\n",
    "* SHARADAR/TICKERS\n",
    "* SHARADAR/INDICATORS\n",
    "* SHARADAR/ACTIONS\n",
    "* SHARADAR/SP500\n",
    "* SHARADAR/EVENTS\n",
    "##### Filter Options:\n",
    "`ticker`\n",
    "`calendardate`\n",
    "`lastupdated`\n",
    "`dimension`\n",
    "`datekey`"
   ]
  },
  {
   "cell_type": "code",
   "execution_count": null,
   "metadata": {},
   "outputs": [
    {
     "name": "stdout",
     "output_type": "stream",
     "text": [
      "        table     indicator isfilter isprimarykey  \\\n",
      "None                                                \n",
      "0     TICKERS        ticker        Y            Y   \n",
      "1     TICKERS         table        Y            Y   \n",
      "2     TICKERS     sicsector        N            N   \n",
      "3     TICKERS   sicindustry        N            N   \n",
      "4     TICKERS       siccode        N            N   \n",
      "...       ...           ...      ...          ...   \n",
      "367   ACTIONS          name        N            Y   \n",
      "368   ACTIONS          date        Y            Y   \n",
      "369   ACTIONS  contraticker        Y            Y   \n",
      "370   ACTIONS    contraname        N            Y   \n",
      "371   ACTIONS        action        Y            Y   \n",
      "\n",
      "                                              title  \\\n",
      "None                                                  \n",
      "0                                     Ticker Symbol   \n",
      "1                                             Table   \n",
      "2                                        SIC Sector   \n",
      "3                                      SIC Industry   \n",
      "4     Standard Industrial Classification (SIC) Code   \n",
      "...                                             ...   \n",
      "367                                     Issuer Name   \n",
      "368                                            Date   \n",
      "369                            Contra Ticker Symbol   \n",
      "370                              Contra Issuer Name   \n",
      "371                                          Action   \n",
      "\n",
      "                                            description           unittype  \n",
      "None                                                                        \n",
      "0     The ticker is a unique identifier for a securi...               text  \n",
      "1     The database table which the ticker is feature...               text  \n",
      "2     The SIC sector is based on the SIC code and th...               text  \n",
      "3     The SIC industry is based on the SIC code and ...               text  \n",
      "4     The Standard Industrial Classification (SIC) i...               text  \n",
      "...                                                 ...                ...  \n",
      "367                             The name of the issuer.               text  \n",
      "368                   The date of the corporate action.  date (YYYY-MM-DD)  \n",
      "369   The contra ticker associated with the action; ...               text  \n",
      "370   The name of the contra issuer associated with ...               text  \n",
      "371   The available actions in this field are outlin...               text  \n",
      "\n",
      "[372 rows x 7 columns]\n"
     ]
    }
   ],
   "source": [
    "data = nasdaqdatalink.get_table('SHARADAR/SF1')\n",
    "print(data)"
   ]
  },
  {
   "cell_type": "code",
   "execution_count": 15,
   "metadata": {},
   "outputs": [
    {
     "name": "stdout",
     "output_type": "stream",
     "text": [
      "     ticker       date lastupdated         ev  evebit  evebitda  marketcap  \\\n",
      "None                                                                         \n",
      "0      MSFT 2024-05-14  2024-05-14  3095891.3    28.7      24.2  3096001.3   \n",
      "1      MSFT 2024-05-13  2024-05-13  3074783.6    28.5      24.1  3074893.6   \n",
      "2      MSFT 2024-05-10  2024-05-10  3082364.5    28.5      24.1  3082474.5   \n",
      "3      MSFT 2024-05-09  2024-05-09  3064378.3    28.4      24.0  3064488.3   \n",
      "4      MSFT 2024-05-08  2024-05-08  3051148.8    28.3      23.9  3051258.8   \n",
      "...     ...        ...         ...        ...     ...       ...        ...   \n",
      "2604   MSFT 2014-01-08  2021-12-19   233783.3     8.2       7.2   298523.3   \n",
      "2605   MSFT 2014-01-07  2021-12-19   239209.5     8.4       7.4   303949.5   \n",
      "2606   MSFT 2014-01-06  2021-12-19   236872.1     8.3       7.3   301612.1   \n",
      "2607   MSFT 2014-01-03  2021-12-19   243383.5     8.6       7.5   308123.5   \n",
      "2608   MSFT 2014-01-02  2021-12-19   245470.5     8.7       7.6   310210.5   \n",
      "\n",
      "        pb    pe    ps  \n",
      "None                    \n",
      "0     12.2  35.9  13.1  \n",
      "1     12.1  35.7  13.0  \n",
      "2     12.2  35.8  13.0  \n",
      "3     12.1  35.6  13.0  \n",
      "4     12.1  35.4  12.9  \n",
      "...    ...   ...   ...  \n",
      "2604   3.7  13.2   3.7  \n",
      "2605   3.7  13.4   3.8  \n",
      "2606   3.7  13.3   3.8  \n",
      "2607   3.8  13.6   3.8  \n",
      "2608   3.8  13.7   3.9  \n",
      "\n",
      "[2609 rows x 10 columns]\n"
     ]
    }
   ],
   "source": [
    "data = nasdaqdatalink.get_table('SHARADAR/DAILY', ticker = ['MSFT'])\n",
    "print(data)"
   ]
  },
  {
   "cell_type": "markdown",
   "metadata": {},
   "source": [
    "## Core US Insiders Data\n",
    "* SHARADAR/SF2\n",
    "##### Filter Options\n",
    "`ticker`\n",
    "`filingdate`\n",
    "`ownername`\n",
    "`transactionvalue`\n",
    "`securityadcode`"
   ]
  },
  {
   "cell_type": "code",
   "execution_count": 12,
   "metadata": {},
   "outputs": [
    {
     "name": "stdout",
     "output_type": "stream",
     "text": [
      "     ticker filingdate formtype      issuername                ownername  \\\n",
      "None                                                                       \n",
      "0      MSFT 2024-03-04        4  MICROSOFT CORP  YOUNG CHRISTOPHER DAVID   \n",
      "1      MSFT 2024-03-04        4  MICROSOFT CORP  YOUNG CHRISTOPHER DAVID   \n",
      "2      MSFT 2023-11-14        4  MICROSOFT CORP  YOUNG CHRISTOPHER DAVID   \n",
      "3      MSFT 2023-09-19        4  MICROSOFT CORP  YOUNG CHRISTOPHER DAVID   \n",
      "4      MSFT 2023-09-01        4  MICROSOFT CORP  YOUNG CHRISTOPHER DAVID   \n",
      "...     ...        ...      ...             ...                      ...   \n",
      "4678   MSFT 2021-09-15        4  MICROSOFT CORP           ALTHOFF JUDSON   \n",
      "4679   MSFT 2021-09-01        4  MICROSOFT CORP           ALTHOFF JUDSON   \n",
      "4680   MSFT 2021-09-01        4  MICROSOFT CORP           ALTHOFF JUDSON   \n",
      "4681   MSFT 2021-09-01        4  MICROSOFT CORP           ALTHOFF JUDSON   \n",
      "4682   MSFT 2021-07-09        3  MICROSOFT CORP           ALTHOFF JUDSON   \n",
      "\n",
      "                      officertitle isdirector isofficer istenpercentowner  \\\n",
      "None                                                                        \n",
      "0         EVP Business Development          N         Y                 N   \n",
      "1         EVP Business Development          N         Y                 N   \n",
      "2         EVP Business Development          N         Y                 N   \n",
      "3         EVP Business Development          N         Y                 N   \n",
      "4         EVP Business Development          N         Y                 N   \n",
      "...                            ...        ...       ...               ...   \n",
      "4678  EVP Chief Commercial Officer          N         Y                 N   \n",
      "4679  EVP Chief Commercial Officer          N         Y                 N   \n",
      "4680  EVP Chief Commercial Officer          N         Y                 N   \n",
      "4681  EVP Chief Commercial Officer          N         Y                 N   \n",
      "4682  EVP Chief Commercial Officer          N         Y                 N   \n",
      "\n",
      "     transactiondate  ... sharesownedfollowingtransaction  \\\n",
      "None                  ...                                   \n",
      "0                NaT  ...                          1500.0   \n",
      "1         2024-02-29  ...                        106640.0   \n",
      "2         2023-11-13  ...                        109446.0   \n",
      "3         2023-09-18  ...                        119698.0   \n",
      "4         2023-08-31  ...                        108256.0   \n",
      "...              ...  ...                             ...   \n",
      "4678      2021-09-13  ...                        194343.0   \n",
      "4679      2021-08-31  ...                        173473.0   \n",
      "4680      2021-08-31  ...                        194583.0   \n",
      "4681      2021-08-30  ...                        153765.0   \n",
      "4682             NaT  ...                        154934.0   \n",
      "\n",
      "     transactionpricepershare  transactionvalue  securitytitle  \\\n",
      "None                                                             \n",
      "0                         NaN               NaN   Common Stock   \n",
      "1                      407.72         1144291.0   Common Stock   \n",
      "2                      369.67         3808608.0   Common Stock   \n",
      "3                         NaN               NaN   Common Stock   \n",
      "4                      328.79         5310021.0   Common Stock   \n",
      "...                       ...               ...            ...   \n",
      "4678                      NaN               NaN   Common Stock   \n",
      "4679                   303.59         6408785.0   Common Stock   \n",
      "4680                      NaN               NaN   Common Stock   \n",
      "4681                   299.72          350373.0   Common Stock   \n",
      "4682                      NaN               NaN   Common Stock   \n",
      "\n",
      "      directorindirect  natureofownership  dateexercisable priceexercisable  \\\n",
      "None                                                                          \n",
      "0                    I           By Trust              NaT              NaN   \n",
      "1                    D               None              NaT              NaN   \n",
      "2                    D               None              NaT              NaN   \n",
      "3                    D               None              NaT              NaN   \n",
      "4                    D               None              NaT              NaN   \n",
      "...                ...                ...              ...              ...   \n",
      "4678                 D               None              NaT              NaN   \n",
      "4679                 D               None              NaT              NaN   \n",
      "4680                 D               None              NaT              NaN   \n",
      "4681                 D               None              NaT              NaN   \n",
      "4682                 D               None              NaT              NaN   \n",
      "\n",
      "     expirationdate rownum  \n",
      "None                        \n",
      "0               NaT      2  \n",
      "1               NaT      1  \n",
      "2               NaT      1  \n",
      "3               NaT      1  \n",
      "4               NaT      2  \n",
      "...             ...    ...  \n",
      "4678            NaT      1  \n",
      "4679            NaT      3  \n",
      "4680            NaT      2  \n",
      "4681            NaT      1  \n",
      "4682            NaT      1  \n",
      "\n",
      "[4683 rows x 24 columns]\n"
     ]
    }
   ],
   "source": [
    "data = nasdaqdatalink.get_table('SHARADAR/SF2', ticker = ['MSFT'])\n",
    "print(data)"
   ]
  },
  {
   "cell_type": "markdown",
   "metadata": {},
   "source": []
  },
  {
   "cell_type": "markdown",
   "metadata": {},
   "source": [
    "## Core US Institutional Investors Data\n",
    "* SHARADAR/SF3  - the most detailed view of the data with a single line item for each combination of ticker, investor, quarter, and security type\n",
    "* SHARADAR/SF3A - provides summary statistics aggregated by ticker and quarter\n",
    "* SHARADAR/SF3B - provides summary statistics aggregated by investor and quarter\n",
    "##### Filter Options\n",
    "`ticker`\n",
    "`investorid`\n",
    "`calendardate`\n",
    "`securitytype`"
   ]
  },
  {
   "cell_type": "code",
   "execution_count": 13,
   "metadata": {},
   "outputs": [
    {
     "name": "stderr",
     "output_type": "stream",
     "text": [
      "/opt/homebrew/anaconda3/envs/tensortown/lib/python3.8/site-packages/nasdaqdatalink/get_table.py:38: UserWarning: To request more pages, please set paginate=True in your         nasdaqdatalink.get_table() call. For more information see our documentation:         https://github.com/Nasdaq/data-link-python/blob/main/FOR_ANALYSTS.md#things-to-note\n",
      "  warnings.warn(Message.WARN_PAGE_LIMIT_EXCEEDED, UserWarning)\n"
     ]
    },
    {
     "name": "stdout",
     "output_type": "stream",
     "text": [
      "     ticker                investorname securitytype calendardate       value  \\\n",
      "None                                                                            \n",
      "0      MSFT  ZWJ INVESTMENT COUNSEL INC          SHR   2024-03-31  83751677.0   \n",
      "1      MSFT  ZWJ INVESTMENT COUNSEL INC          SHR   2023-12-31  76907722.0   \n",
      "2      MSFT  ZWJ INVESTMENT COUNSEL INC          SHR   2023-09-30  66136066.0   \n",
      "3      MSFT  ZWJ INVESTMENT COUNSEL INC          SHR   2023-06-30  68425319.0   \n",
      "4      MSFT  ZWJ INVESTMENT COUNSEL INC          SHR   2023-03-31  58834280.0   \n",
      "...     ...                         ...          ...          ...         ...   \n",
      "9995   MSFT    TWO SIGMA SECURITIES LLC          SHR   2020-06-30   6695000.0   \n",
      "9996   MSFT    TWO SIGMA SECURITIES LLC          PUT   2020-06-30  17319000.0   \n",
      "9997   MSFT    TWO SIGMA SECURITIES LLC          CLL   2020-06-30  10908000.0   \n",
      "9998   MSFT    TWO SIGMA SECURITIES LLC          PUT   2020-03-31  11371000.0   \n",
      "9999   MSFT    TWO SIGMA SECURITIES LLC          CLL   2020-03-31   6561000.0   \n",
      "\n",
      "         units  price  \n",
      "None                   \n",
      "0     199067.0  420.0  \n",
      "1     204520.0  376.0  \n",
      "2     209457.0  315.0  \n",
      "3     200932.0  340.0  \n",
      "4     204073.0  288.0  \n",
      "...        ...    ...  \n",
      "9995   32896.0  203.0  \n",
      "9996   85100.0  203.0  \n",
      "9997   53600.0  203.0  \n",
      "9998   72100.0  157.0  \n",
      "9999   41600.0  157.0  \n",
      "\n",
      "[10000 rows x 7 columns]\n"
     ]
    }
   ],
   "source": [
    "data = nasdaqdatalink.get_table('SHARADAR/SF3', ticker = ['MSFT'])\n",
    "print(data) \n"
   ]
  },
  {
   "cell_type": "markdown",
   "metadata": {},
   "source": [
    "## Sharadar Equity Prices\n",
    "* SHARADAR/SEP\n",
    "* SHARADAR/ACTIONS\n",
    "* SHARADAR/TICKERS\n",
    "* SHARADAR/METRICS\n",
    "* SHARADAR/INDICATORS\n",
    "##### Filter Options\n",
    "`ticker`\n",
    "`date`\n",
    "`lastupdated`"
   ]
  },
  {
   "cell_type": "code",
   "execution_count": 24,
   "metadata": {},
   "outputs": [
    {
     "name": "stdout",
     "output_type": "stream",
     "text": [
      "     ticker       date     open     high      low   close      volume  \\\n",
      "None                                                                    \n",
      "0      MSFT 2024-05-14  412.020  417.490  411.550  416.56  14015182.0   \n",
      "1      MSFT 2024-05-13  418.010  418.348  410.820  413.72  14414312.0   \n",
      "2      MSFT 2024-05-10  412.935  415.380  411.800  414.74  12465812.0   \n",
      "3      MSFT 2024-05-09  410.570  412.720  409.100  412.32  13597282.0   \n",
      "4      MSFT 2024-05-08  408.170  412.230  406.713  410.54  11011627.0   \n",
      "...     ...        ...      ...      ...      ...     ...         ...   \n",
      "2604   MSFT 2014-01-08   36.000   36.140   35.580   35.76  59971700.0   \n",
      "2605   MSFT 2014-01-07   36.325   36.490   36.210   36.41  35802800.0   \n",
      "2606   MSFT 2014-01-06   36.850   36.890   36.110   36.13  43603700.0   \n",
      "2607   MSFT 2014-01-03   37.200   37.220   36.600   36.91  31134800.0   \n",
      "2608   MSFT 2014-01-02   37.350   37.400   37.100   37.16  30632200.0   \n",
      "\n",
      "      closeadj  closeunadj lastupdated  \n",
      "None                                    \n",
      "0      416.560      416.56  2024-05-14  \n",
      "1      413.720      413.72  2024-05-13  \n",
      "2      414.740      414.74  2024-05-10  \n",
      "3      412.320      412.32  2024-05-09  \n",
      "4      410.540      410.54  2024-05-08  \n",
      "...        ...         ...         ...  \n",
      "2604    30.060       35.76  2024-02-14  \n",
      "2605    30.606       36.41  2024-02-14  \n",
      "2606    30.371       36.13  2024-02-14  \n",
      "2607    31.026       36.91  2024-02-14  \n",
      "2608    31.236       37.16  2024-02-14  \n",
      "\n",
      "[2609 rows x 10 columns]\n"
     ]
    }
   ],
   "source": [
    "data = nasdaqdatalink.get_table('SHARADAR/SEP', ticker = ['MSFT'])\n",
    "print(data) "
   ]
  },
  {
   "cell_type": "markdown",
   "metadata": {},
   "source": [
    "## Sharadar Fund Prices\n",
    "* SHARADAR/SFP\n",
    "* SHARADAR/ACTIONS\n",
    "* SHARADAR/TICKERS\n",
    "* SHARADAR/METRICS\n",
    "* SHARADAR/INDICATORS\n",
    "##### Filter options:\n",
    "`ticker`\n",
    "`date`\n",
    "`lastupdated`"
   ]
  },
  {
   "cell_type": "code",
   "execution_count": 19,
   "metadata": {},
   "outputs": [
    {
     "name": "stdout",
     "output_type": "stream",
     "text": [
      "     ticker       date    open    high     low   close   volume  closeadj  \\\n",
      "None                                                                        \n",
      "0      VSPY 2022-11-15   9.230   9.410   9.120   9.290  31889.0     9.290   \n",
      "1      VSPY 2022-11-14   9.220   9.330   9.220   9.292   1008.0     9.292   \n",
      "2      VSPY 2022-11-11   9.350   9.350   9.220   9.290   5454.0     9.290   \n",
      "3      VSPY 2022-11-10   9.160   9.268   9.160   9.268   1631.0     9.268   \n",
      "4      VSPY 2022-11-09   9.228   9.245   9.170   9.245    326.0     9.245   \n",
      "...     ...        ...     ...     ...     ...     ...      ...       ...   \n",
      "331    VSPY 2021-07-26  10.170  10.170  10.170  10.170    313.0    10.170   \n",
      "332    VSPY 2021-07-23  10.035  10.035  10.035  10.035    100.0    10.035   \n",
      "333    VSPY 2021-07-22  10.025  10.025  10.025  10.025    200.0    10.025   \n",
      "334    VSPY 2021-07-21  10.020  10.020  10.020  10.020    300.0    10.020   \n",
      "335    VSPY 2021-07-20  10.110  10.160  10.000  10.020  95800.0    10.020   \n",
      "\n",
      "      closeunadj lastupdated  \n",
      "None                          \n",
      "0          9.290  2022-11-15  \n",
      "1          9.292  2022-11-14  \n",
      "2          9.290  2022-11-11  \n",
      "3          9.268  2022-11-10  \n",
      "4          9.245  2022-11-09  \n",
      "...          ...         ...  \n",
      "331       10.170  2021-07-26  \n",
      "332       10.035  2021-07-26  \n",
      "333       10.025  2021-07-23  \n",
      "334       10.020  2021-07-22  \n",
      "335       10.020  2021-07-21  \n",
      "\n",
      "[336 rows x 10 columns]\n"
     ]
    }
   ],
   "source": [
    "data = nasdaqdatalink.get_table('SHARADAR/SFP', ticker = ['VSPY'])\n",
    "print(data) "
   ]
  },
  {
   "cell_type": "code",
   "execution_count": null,
   "metadata": {},
   "outputs": [],
   "source": []
  }
 ],
 "metadata": {
  "kernelspec": {
   "display_name": "Python 3 (ipykernel)",
   "language": "python",
   "name": "python3"
  }
 },
 "nbformat": 4,
 "nbformat_minor": 2
}
