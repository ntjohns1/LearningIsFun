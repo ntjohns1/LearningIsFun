{
 "cells": [
  {
   "cell_type": "code",
   "execution_count": 1,
   "metadata": {},
   "outputs": [],
   "source": [
    "%matplotlib inline\n",
    "import os\n",
    "from datetime import datetime\n",
    "import pandas as pd"
   ]
  },
  {
   "cell_type": "code",
   "execution_count": 8,
   "metadata": {},
   "outputs": [
    {
     "name": "stdout",
     "output_type": "stream",
     "text": [
      "Data from all pages has been written to complete_strategy_data.xlsx\n"
     ]
    }
   ],
   "source": [
    "import pandas as pd\n",
    "\n",
    "urls = [\n",
    "    'https://quantpedia.com/screener/?screener_tab=screener-classic&FilterSubscription=Only+Free&Column=PeriodOfRebalancing&Direction=Ascending',\n",
    "    'https://quantpedia.com/screener/page/2/?screener_tab=screener-classic&FilterSubscription=Only%20Free&Column=PeriodOfRebalancing&Direction=Ascending',\n",
    "    'https://quantpedia.com/screener/page/3/?screener_tab=screener-classic&FilterSubscription=Only%20Free&Column=PeriodOfRebalancing&Direction=Ascending',\n",
    "    'https://quantpedia.com/screener/page/4/?screener_tab=screener-classic&FilterSubscription=Only%20Free&Column=PeriodOfRebalancing&Direction=Ascending',\n",
    "    'https://quantpedia.com/screener/page/5/?screener_tab=screener-classic&FilterSubscription=Only%20Free&Column=PeriodOfRebalancing&Direction=Ascending'  \n",
    "    ]\n",
    "dfs = []\n",
    "for url in urls:\n",
    "    df = pd.read_html(url, header=0)[0]\n",
    "    dfs.append(df)\n",
    "\n",
    "# Concatenate all the DataFrames into one\n",
    "full_df = pd.concat(dfs, ignore_index=True)\n",
    "\n",
    "# Write the concatenated DataFrame to an Excel file\n",
    "output_filename = 'complete_strategy_data.xlsx'\n",
    "full_df.to_excel(output_filename, index=False)\n",
    "\n",
    "print(f\"Data from all pages has been written to {output_filename}\")\n"
   ]
  }
 ],
 "metadata": {
  "kernelspec": {
   "display_name": "Python 3 (ipykernel)",
   "language": "python",
   "name": "python3"
  }
 },
 "nbformat": 4,
 "nbformat_minor": 2
}
