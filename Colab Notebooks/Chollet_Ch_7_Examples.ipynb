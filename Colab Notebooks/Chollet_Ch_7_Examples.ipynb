{
  "cells": [
    {
      "cell_type": "markdown",
      "metadata": {
        "id": "view-in-github",
        "colab_type": "text"
      },
      "source": [
        "<a href=\"https://colab.research.google.com/github/ntjohns1/LearningIsFun/blob/main/Colab%20Notebooks/Chollet_Ch_7_Examples.ipynb\" target=\"_parent\"><img src=\"https://colab.research.google.com/assets/colab-badge.svg\" alt=\"Open In Colab\"/></a>"
      ]
    },
    {
      "cell_type": "markdown",
      "metadata": {
        "id": "oP8iNlRy5IFj"
      },
      "source": [
        "#Ch. 7 Examples"
      ]
    },
    {
      "cell_type": "markdown",
      "metadata": {
        "id": "OG-62oOR5dgP"
      },
      "source": [
        "##The Sequential Api"
      ]
    },
    {
      "cell_type": "code",
      "execution_count": 2,
      "metadata": {
        "id": "cpD6iFGdx8zB"
      },
      "outputs": [],
      "source": [
        "import tensorflow\n",
        "from tensorflow import keras\n",
        "from tensorflow.keras import layers"
      ]
    },
    {
      "cell_type": "code",
      "execution_count": 3,
      "metadata": {
        "id": "sOHqrMre2QgF"
      },
      "outputs": [],
      "source": [
        "model = keras.Sequential([\n",
        "    layers.Dense(64, activation=\"relu\"),\n",
        "    layers.Dense(10, \"softmax\")\n",
        "])\n",
        "\n",
        "\n",
        "# model.add(layers.Dense(64, activation=\"relu\"))\n",
        "# model.add(layers.Dense(10, \"softmax\"))"
      ]
    },
    {
      "cell_type": "markdown",
      "metadata": {
        "id": "Gy7z5qtk2e0e"
      },
      "source": [
        "The preceeding sequential model has no weights yet because the layers only get built when called for the first time"
      ]
    },
    {
      "cell_type": "code",
      "execution_count": 4,
      "metadata": {
        "id": "Ed9Aur502gQs"
      },
      "outputs": [],
      "source": [
        "model.build(input_shape=(None, 3))"
      ]
    },
    {
      "cell_type": "code",
      "execution_count": 5,
      "metadata": {
        "colab": {
          "base_uri": "https://localhost:8080/"
        },
        "id": "9AAkUAlt2lYT",
        "outputId": "c1b2cc0f-dc1f-4bf1-d198-e105385bddf4"
      },
      "outputs": [
        {
          "output_type": "execute_result",
          "data": {
            "text/plain": [
              "[<tf.Variable 'dense/kernel:0' shape=(3, 64) dtype=float32, numpy=\n",
              " array([[ 0.09299296, -0.00669023, -0.08768107, -0.07809211, -0.14154966,\n",
              "          0.13745654,  0.16861674, -0.07753311, -0.2719263 , -0.28929913,\n",
              "          0.08923075,  0.05682167,  0.14070463,  0.28334695,  0.01218915,\n",
              "          0.06020889,  0.13929379, -0.1432595 ,  0.24484313,  0.08017904,\n",
              "          0.23237848, -0.0743473 ,  0.23280251,  0.24692422,  0.2879675 ,\n",
              "         -0.1268055 ,  0.16753995,  0.05668232, -0.03752503,  0.22348976,\n",
              "         -0.14628513, -0.27143657,  0.10044569,  0.12831634, -0.20502354,\n",
              "         -0.1388471 ,  0.11520299,  0.2681895 ,  0.18375522,  0.12962523,\n",
              "          0.0930593 ,  0.2776475 ,  0.05371541,  0.24912703,  0.10195261,\n",
              "          0.10312435, -0.13568212, -0.269945  , -0.05393423,  0.18959373,\n",
              "          0.19242537,  0.29239035, -0.08916532,  0.21999973, -0.19860706,\n",
              "          0.16889063,  0.25060576,  0.12271166,  0.00059345,  0.22836864,\n",
              "         -0.29529917,  0.29172158,  0.24956608, -0.26968202],\n",
              "        [-0.1229919 , -0.23780304,  0.29603392, -0.19367582,  0.29447395,\n",
              "         -0.08677945, -0.21033444, -0.2037216 ,  0.06195796,  0.08777881,\n",
              "         -0.29272717,  0.26522392, -0.01158553, -0.21041897,  0.27250588,\n",
              "         -0.15543045, -0.08400597, -0.10662453, -0.04288521, -0.10215953,\n",
              "          0.1420573 ,  0.08250874, -0.2703854 ,  0.23534101,  0.09302807,\n",
              "          0.12945434, -0.24595813, -0.14229995, -0.2724378 ,  0.01252747,\n",
              "         -0.0050399 ,  0.2871738 , -0.2412587 , -0.09345536,  0.01690143,\n",
              "         -0.0059379 , -0.00944683,  0.21370405,  0.26924723, -0.28429937,\n",
              "         -0.08896638,  0.08844647,  0.22387558,  0.19126028, -0.01773006,\n",
              "          0.02287555, -0.21068797, -0.02775672, -0.09302598,  0.27938634,\n",
              "          0.03832871,  0.25385487,  0.13145271,  0.29774326,  0.04031187,\n",
              "         -0.12955074,  0.07272214,  0.22300935, -0.26856592,  0.10014454,\n",
              "          0.1443778 , -0.05577107,  0.19401315,  0.03585371],\n",
              "        [ 0.02531186,  0.02050862,  0.18390921, -0.13129376, -0.21987915,\n",
              "          0.0950399 ,  0.01309726,  0.09843427,  0.11998004,  0.12348056,\n",
              "          0.19739294,  0.05527064,  0.246032  , -0.10503134, -0.2780102 ,\n",
              "         -0.23323496, -0.09163393, -0.13716187, -0.12906379, -0.20202559,\n",
              "         -0.17630443,  0.1431148 ,  0.15495664, -0.24627185, -0.07207267,\n",
              "          0.07944414,  0.09219208, -0.01722762, -0.18069422, -0.05310681,\n",
              "          0.11771825,  0.27774704, -0.1864145 ,  0.10830206, -0.02539563,\n",
              "         -0.28523326, -0.02547768, -0.2563516 ,  0.2232945 ,  0.06721735,\n",
              "         -0.1763204 , -0.03941047,  0.1342397 ,  0.20092672,  0.20823234,\n",
              "         -0.28214306,  0.2052024 ,  0.15636346, -0.09663281, -0.2123343 ,\n",
              "         -0.05510676,  0.04693127,  0.04595786, -0.23406516, -0.24831046,\n",
              "          0.15780547, -0.16194925, -0.08423577,  0.06938601, -0.13870804,\n",
              "         -0.08972724,  0.28615505, -0.19209525, -0.19249621]],\n",
              "       dtype=float32)>,\n",
              " <tf.Variable 'dense/bias:0' shape=(64,) dtype=float32, numpy=\n",
              " array([0., 0., 0., 0., 0., 0., 0., 0., 0., 0., 0., 0., 0., 0., 0., 0., 0.,\n",
              "        0., 0., 0., 0., 0., 0., 0., 0., 0., 0., 0., 0., 0., 0., 0., 0., 0.,\n",
              "        0., 0., 0., 0., 0., 0., 0., 0., 0., 0., 0., 0., 0., 0., 0., 0., 0.,\n",
              "        0., 0., 0., 0., 0., 0., 0., 0., 0., 0., 0., 0., 0.], dtype=float32)>,\n",
              " <tf.Variable 'dense_1/kernel:0' shape=(64, 10) dtype=float32, numpy=\n",
              " array([[-0.05909893,  0.11789215, -0.04111321,  0.01423472,  0.11954743,\n",
              "          0.23213676,  0.1468896 , -0.00362208, -0.10488908, -0.06237173],\n",
              "        [-0.21246666,  0.27694252,  0.09250849, -0.00725335,  0.15580529,\n",
              "          0.03977424, -0.04492389,  0.07447729,  0.26316687,  0.07609925],\n",
              "        [ 0.27717873, -0.01424843, -0.18684362, -0.18184495,  0.1512436 ,\n",
              "          0.20063019, -0.08709502,  0.11859798,  0.01352331,  0.18030563],\n",
              "        [-0.2609761 ,  0.11486709,  0.17323092, -0.07120246,  0.03572765,\n",
              "          0.04701325, -0.02553186,  0.14621642, -0.22822051, -0.19653295],\n",
              "        [ 0.26599345, -0.2090933 ,  0.273186  ,  0.19557482, -0.12237534,\n",
              "         -0.14295857, -0.14444649,  0.04138124, -0.2344608 , -0.17166865],\n",
              "        [ 0.09076178, -0.2593067 ,  0.09052092,  0.19498575,  0.09275609,\n",
              "          0.27964363,  0.0182409 ,  0.25763205,  0.1450777 , -0.08248794],\n",
              "        [-0.09021893, -0.1920057 ,  0.1386778 , -0.18628061,  0.0414786 ,\n",
              "          0.10104004, -0.21443604, -0.22973648, -0.07436419,  0.2527673 ],\n",
              "        [-0.0560082 , -0.16880149,  0.09099084,  0.06268701,  0.1390104 ,\n",
              "          0.02007601, -0.07120843, -0.01784784,  0.26477996, -0.241995  ],\n",
              "        [-0.17327523, -0.13035618,  0.22900036, -0.27381325,  0.1326938 ,\n",
              "          0.15368998, -0.10823683, -0.1124725 , -0.01823759, -0.01207665],\n",
              "        [ 0.02659214, -0.06967109,  0.02732229, -0.2107348 ,  0.10020414,\n",
              "          0.05120534, -0.08276859,  0.08841538, -0.12056562,  0.0950743 ],\n",
              "        [ 0.2568244 , -0.13516937, -0.07632048, -0.10876033, -0.13068245,\n",
              "         -0.08593024,  0.2325171 ,  0.1143277 , -0.2276806 , -0.25921983],\n",
              "        [-0.1386656 , -0.27838814, -0.02797255,  0.11396497, -0.27403387,\n",
              "         -0.10589662, -0.17488298,  0.01383388, -0.16751152,  0.10475895],\n",
              "        [-0.27582154, -0.24552347,  0.04316917, -0.15860917,  0.12937519,\n",
              "          0.1299834 ,  0.09087861,  0.10462466, -0.08352622,  0.17108542],\n",
              "        [-0.13146324,  0.25588045,  0.18011281, -0.18735652, -0.21844026,\n",
              "          0.1764436 ,  0.23747507,  0.28070077, -0.17893577, -0.19277216],\n",
              "        [-0.22720693, -0.12996058,  0.03747815,  0.06927705,  0.07860175,\n",
              "          0.08508083,  0.00527981,  0.28311178,  0.27005443,  0.14987415],\n",
              "        [-0.05949113,  0.11159047, -0.1326646 , -0.08732483,  0.07647949,\n",
              "         -0.23396508, -0.24119988,  0.05854923,  0.02448386, -0.11793546],\n",
              "        [-0.11332138,  0.08592814, -0.16985044,  0.19141603, -0.12285824,\n",
              "          0.07345048, -0.2501609 ,  0.09296525,  0.0658012 , -0.19357753],\n",
              "        [-0.13246244, -0.11888245,  0.02947575, -0.1775921 ,  0.16327098,\n",
              "         -0.00926706,  0.23453763, -0.2678464 , -0.05748439,  0.05008945],\n",
              "        [ 0.25033137, -0.0411534 , -0.24550655, -0.01218569, -0.13359366,\n",
              "         -0.17137665, -0.1556875 ,  0.00743005,  0.11902711,  0.00293586],\n",
              "        [ 0.16253024,  0.18422186, -0.16000775,  0.15822539, -0.14910375,\n",
              "          0.19936392,  0.20285511,  0.14001653, -0.23113099, -0.05072862],\n",
              "        [ 0.24665812,  0.10571718, -0.18655577,  0.15820733, -0.24652429,\n",
              "         -0.27885443, -0.12567319, -0.02831721,  0.26361087, -0.2386093 ],\n",
              "        [-0.02576539,  0.17614648,  0.19154093, -0.03927572,  0.05370787,\n",
              "          0.22163072, -0.08278346, -0.08501199, -0.07225175, -0.20013086],\n",
              "        [-0.09854743, -0.04983784,  0.12134928,  0.15490234,  0.22592047,\n",
              "          0.08941785,  0.22597519,  0.24751809,  0.2362884 ,  0.06180742],\n",
              "        [ 0.21976027,  0.27317217,  0.28101435, -0.20198919,  0.00380728,\n",
              "         -0.23651852,  0.13605824,  0.01180741,  0.07460207, -0.1740307 ],\n",
              "        [ 0.2531862 , -0.01187748, -0.19480395, -0.01272249, -0.2194466 ,\n",
              "          0.00031587,  0.21530941,  0.20732439,  0.2731122 ,  0.27814743],\n",
              "        [ 0.25980672,  0.28181186,  0.07339576,  0.16537079,  0.12956154,\n",
              "          0.2302446 ,  0.10850206, -0.074775  ,  0.21374851, -0.05693544],\n",
              "        [ 0.13418314,  0.1512421 , -0.10479513,  0.25714454,  0.20389986,\n",
              "          0.09461379,  0.12608662,  0.15819165, -0.20110922,  0.07249582],\n",
              "        [ 0.2623978 , -0.01503301, -0.23278822,  0.2495344 ,  0.24895588,\n",
              "          0.01660803,  0.0123021 ,  0.26318094, -0.04174858,  0.19921511],\n",
              "        [-0.28208417,  0.16572821, -0.25771254,  0.254087  , -0.16881031,\n",
              "          0.22611383,  0.09823278, -0.16890956,  0.2597845 ,  0.17258921],\n",
              "        [-0.2238602 , -0.27091914,  0.04291838,  0.22605178,  0.13010031,\n",
              "         -0.25733283, -0.03642236, -0.07881106, -0.27240205, -0.1557291 ],\n",
              "        [ 0.2096692 , -0.17984995,  0.12708914, -0.25686765, -0.17519853,\n",
              "         -0.24658355, -0.18568861,  0.21017778,  0.12320489, -0.03167942],\n",
              "        [-0.10521686, -0.04511581,  0.03412038, -0.24158204, -0.2653804 ,\n",
              "          0.2176387 ,  0.02134997,  0.19112164, -0.12871332,  0.18647015],\n",
              "        [ 0.24322894, -0.19578692, -0.11677878,  0.28158906,  0.2822189 ,\n",
              "         -0.01787111,  0.18769482,  0.08394939, -0.19001105,  0.16467348],\n",
              "        [-0.20076366, -0.25919428, -0.17553425,  0.13215062, -0.14936477,\n",
              "         -0.00684336,  0.15432313,  0.22946247, -0.21228254,  0.26594493],\n",
              "        [ 0.03730512,  0.1661039 , -0.23735043, -0.15829667,  0.13436002,\n",
              "          0.21751603, -0.15639482, -0.270375  ,  0.10904619,  0.27971843],\n",
              "        [-0.207218  ,  0.08692557, -0.16785939,  0.26796564, -0.20504332,\n",
              "         -0.16851568,  0.10055125, -0.06116655, -0.16832593, -0.1933569 ],\n",
              "        [ 0.03457931,  0.23639199, -0.15270756, -0.03321275, -0.1412925 ,\n",
              "          0.1425392 , -0.05051842,  0.28452924, -0.19409409,  0.12223211],\n",
              "        [ 0.2694482 , -0.15234755,  0.02312586, -0.13617224,  0.03440773,\n",
              "         -0.12335932,  0.2617015 , -0.2684107 , -0.21437907, -0.14720903],\n",
              "        [ 0.11554408,  0.18561834, -0.22413732, -0.16662613,  0.1183126 ,\n",
              "          0.04735765, -0.24007916, -0.04280731, -0.00364742, -0.05487229],\n",
              "        [-0.09529983,  0.19836053,  0.06273854, -0.22063532,  0.0321708 ,\n",
              "         -0.15274347, -0.09432968,  0.20425993,  0.07696563, -0.12179027],\n",
              "        [-0.1369066 , -0.01082683, -0.14925337, -0.2313677 ,  0.16300723,\n",
              "          0.2372962 ,  0.00696778,  0.17161968,  0.16154116, -0.26174718],\n",
              "        [ 0.06492952, -0.12253766,  0.27993086, -0.01315311, -0.18234685,\n",
              "         -0.11485031,  0.28226152,  0.19154724,  0.16441068,  0.02953425],\n",
              "        [-0.2676798 ,  0.27977464,  0.21371982,  0.22590604, -0.20345356,\n",
              "          0.13145307, -0.07710162, -0.02124947,  0.12163019, -0.11385988],\n",
              "        [ 0.19978973, -0.19739732,  0.01888621,  0.22833642,  0.11626601,\n",
              "         -0.12655045, -0.12669274,  0.10331595, -0.22408906,  0.02930662],\n",
              "        [-0.21749322, -0.18157122, -0.14651391,  0.0923281 ,  0.03645521,\n",
              "         -0.01009971,  0.01340938,  0.04176122, -0.2654976 ,  0.14132673],\n",
              "        [ 0.01703474,  0.07932383,  0.15139425,  0.20569316, -0.04379557,\n",
              "         -0.03768231, -0.1686632 ,  0.04644814, -0.06352197, -0.1168157 ],\n",
              "        [ 0.09779292,  0.01214522,  0.12891898,  0.00111747,  0.08353519,\n",
              "          0.07917398,  0.19838965, -0.22975874,  0.19404724, -0.07409678],\n",
              "        [ 0.2180303 ,  0.23537579,  0.17583865,  0.06769958,  0.23745456,\n",
              "         -0.08353241, -0.13597691,  0.27580962,  0.07480669, -0.27628183],\n",
              "        [-0.14367907,  0.12126699, -0.07511742, -0.23282373,  0.24966726,\n",
              "          0.11494285, -0.04232714,  0.2195389 , -0.22863212,  0.10481367],\n",
              "        [ 0.15568551,  0.21004418, -0.12678127,  0.27754167, -0.15746991,\n",
              "          0.254635  , -0.2596797 ,  0.2702783 , -0.27679515,  0.04594582],\n",
              "        [-0.1057449 , -0.01944336, -0.05893654,  0.03855354,  0.00945708,\n",
              "          0.23989025,  0.07627976,  0.10835379,  0.07913694, -0.03113794],\n",
              "        [ 0.26006427, -0.28352234,  0.23983768,  0.19371128,  0.09174928,\n",
              "         -0.05902846, -0.18266803, -0.16343004,  0.1711053 , -0.11507393],\n",
              "        [-0.2639662 , -0.17055777,  0.22825602,  0.07785261,  0.18559065,\n",
              "         -0.03445321,  0.24162844,  0.040335  ,  0.14974394, -0.00395244],\n",
              "        [-0.12543164,  0.17324293, -0.16007712, -0.13428071, -0.15082547,\n",
              "         -0.23489   ,  0.02850446, -0.26639622, -0.24591798,  0.0511477 ],\n",
              "        [-0.13776301, -0.00396702,  0.06871325,  0.10919008,  0.15743917,\n",
              "         -0.20141424, -0.1862959 , -0.07236466,  0.09186503,  0.06929567],\n",
              "        [-0.17600608,  0.15026656, -0.26524714,  0.17081407, -0.15267444,\n",
              "         -0.12633762, -0.27963358,  0.22020105,  0.03236544,  0.00892597],\n",
              "        [-0.09674783,  0.2829577 , -0.03576763, -0.09774241, -0.19330591,\n",
              "         -0.03172532,  0.07339513,  0.20139605,  0.21619043, -0.06692213],\n",
              "        [ 0.21448743,  0.07142147, -0.02859148, -0.08812435,  0.1281009 ,\n",
              "         -0.16009146, -0.13147241, -0.2510577 , -0.21675296, -0.01748177],\n",
              "        [ 0.06324065, -0.26134217,  0.24473742,  0.02449968,  0.21170664,\n",
              "          0.07276797, -0.11570096,  0.14886057, -0.05144668,  0.05285659],\n",
              "        [ 0.196466  ,  0.05936757, -0.16419622,  0.06485048, -0.2644037 ,\n",
              "         -0.17946014, -0.2771908 ,  0.01147249,  0.2664447 , -0.25394332],\n",
              "        [ 0.28332856, -0.12023059,  0.12308717, -0.2590156 ,  0.01736134,\n",
              "         -0.01992476, -0.14934896,  0.08753765,  0.06519842,  0.010685  ],\n",
              "        [ 0.25840244, -0.06926918,  0.00089696, -0.0567683 , -0.01481447,\n",
              "         -0.14663292, -0.16489351, -0.01416409,  0.07907474, -0.06018284],\n",
              "        [-0.0243609 , -0.07847664, -0.16497512,  0.00181231, -0.2553678 ,\n",
              "         -0.05524446,  0.12738359, -0.04467237, -0.28153184,  0.23036078],\n",
              "        [ 0.14586481,  0.28074035,  0.12639356, -0.11451915, -0.1272119 ,\n",
              "          0.05963573, -0.0193215 , -0.22122854, -0.17387891, -0.1708611 ]],\n",
              "       dtype=float32)>,\n",
              " <tf.Variable 'dense_1/bias:0' shape=(10,) dtype=float32, numpy=array([0., 0., 0., 0., 0., 0., 0., 0., 0., 0.], dtype=float32)>]"
            ]
          },
          "metadata": {},
          "execution_count": 5
        }
      ],
      "source": [
        "model.weights"
      ]
    },
    {
      "cell_type": "code",
      "execution_count": 6,
      "metadata": {
        "colab": {
          "base_uri": "https://localhost:8080/"
        },
        "id": "oj8Xs2bT2tv5",
        "outputId": "676b5fc1-ff3a-4007-ef3f-0d0948ab70d8"
      },
      "outputs": [
        {
          "output_type": "stream",
          "name": "stdout",
          "text": [
            "Model: \"example_model\"\n",
            "_________________________________________________________________\n",
            " Layer (type)                Output Shape              Param #   \n",
            "=================================================================\n",
            " first_layer (Dense)         (None, 64)                256       \n",
            "                                                                 \n",
            " second_layer (Dense)        (None, 10)                650       \n",
            "                                                                 \n",
            "=================================================================\n",
            "Total params: 906 (3.54 KB)\n",
            "Trainable params: 906 (3.54 KB)\n",
            "Non-trainable params: 0 (0.00 Byte)\n",
            "_________________________________________________________________\n"
          ]
        }
      ],
      "source": [
        "# we can also append the layers like this, also note we are naming the model and layers:\n",
        "model= keras.Sequential(name=\"example_model\")\n",
        "model.add(layers.Dense(64, activation=\"relu\", name=\"first_layer\"))\n",
        "model.add(layers.Dense(10, activation=\"softmax\", name=\"second_layer\"))\n",
        "model.build((None, 3))\n",
        "model.summary()\n"
      ]
    },
    {
      "cell_type": "code",
      "execution_count": 7,
      "metadata": {
        "colab": {
          "base_uri": "https://localhost:8080/"
        },
        "id": "mVTj95io4c2v",
        "outputId": "3ac91bbe-ef48-4ee2-892a-13de1c7bddb0"
      },
      "outputs": [
        {
          "output_type": "stream",
          "name": "stdout",
          "text": [
            "Model: \"sequential_1\"\n",
            "_________________________________________________________________\n",
            " Layer (type)                Output Shape              Param #   \n",
            "=================================================================\n",
            " dense_2 (Dense)             (None, 64)                256       \n",
            "                                                                 \n",
            "=================================================================\n",
            "Total params: 256 (1.00 KB)\n",
            "Trainable params: 256 (1.00 KB)\n",
            "Non-trainable params: 0 (0.00 Byte)\n",
            "_________________________________________________________________\n"
          ]
        }
      ],
      "source": [
        "model = keras.Sequential()\n",
        "model.add(keras.Input(shape=(3,)))\n",
        "model.add(layers.Dense(64, activation=\"relu\"))\n",
        "model.summary()"
      ]
    },
    {
      "cell_type": "markdown",
      "metadata": {
        "id": "2MH6ymF35nKf"
      },
      "source": [
        "## The Functional API"
      ]
    },
    {
      "cell_type": "markdown",
      "metadata": {
        "id": "aIAc3tI0B_oa"
      },
      "source": [
        "### Building the previous example with the functional API"
      ]
    },
    {
      "cell_type": "code",
      "execution_count": 8,
      "metadata": {
        "id": "-N0TigaU5tF8"
      },
      "outputs": [],
      "source": [
        "inputs = keras.Input(shape=(3,), name = \"my_input\")\n",
        "features = layers.Dense(64, activation=\"relu\") (inputs)\n",
        "outputs = layers.Dense(10, activation=\"softmax\")(features)\n",
        "model = keras.Model(inputs=inputs, outputs=outputs)"
      ]
    },
    {
      "cell_type": "code",
      "execution_count": 9,
      "metadata": {
        "id": "c2n4NWt4B_oa",
        "outputId": "0d15e259-57e1-4b88-f3a8-9326d6bf8acf",
        "colab": {
          "base_uri": "https://localhost:8080/"
        }
      },
      "outputs": [
        {
          "output_type": "stream",
          "name": "stdout",
          "text": [
            "Model: \"model\"\n",
            "_________________________________________________________________\n",
            " Layer (type)                Output Shape              Param #   \n",
            "=================================================================\n",
            " my_input (InputLayer)       [(None, 3)]               0         \n",
            "                                                                 \n",
            " dense_3 (Dense)             (None, 64)                256       \n",
            "                                                                 \n",
            " dense_4 (Dense)             (None, 10)                650       \n",
            "                                                                 \n",
            "=================================================================\n",
            "Total params: 906 (3.54 KB)\n",
            "Trainable params: 906 (3.54 KB)\n",
            "Non-trainable params: 0 (0.00 Byte)\n",
            "_________________________________________________________________\n"
          ]
        }
      ],
      "source": [
        "model.summary()"
      ]
    },
    {
      "cell_type": "code",
      "execution_count": 10,
      "metadata": {
        "id": "MCQ6w5PTB_ob",
        "outputId": "6bfe5eff-e65d-4f94-e30d-861c45454f17",
        "colab": {
          "base_uri": "https://localhost:8080/"
        }
      },
      "outputs": [
        {
          "output_type": "execute_result",
          "data": {
            "text/plain": [
              "TensorShape([None, 64])"
            ]
          },
          "metadata": {},
          "execution_count": 10
        }
      ],
      "source": [
        "features.shape"
      ]
    },
    {
      "cell_type": "markdown",
      "metadata": {
        "id": "MDVLl13JB_ob"
      },
      "source": [
        "### A Multi-Input Multi-Output Functional Model"
      ]
    },
    {
      "cell_type": "markdown",
      "metadata": {
        "id": "n5IHwxZVB_ob"
      },
      "source": [
        "Let’s say you’re building a system to rank customer support tickets by priority and\n",
        "route them to the appropriate department. Your model has three inputs:\n",
        "- The title of the ticket (text input)\n",
        "- The text body of the ticket (text input)\n",
        "- Any tags added by the user (categorical input, assumed here to be one-hot\n",
        "encoded)\n",
        "\n",
        "We can encode the text inputs as arrays of ones and zeros of size vocabulary_size\n",
        "(see chapter 11 for detailed information about text encoding techniques).\n",
        "Your model also has two outputs:\n",
        "- The priority score of the ticket, a scalar between 0 and 1 (sigmoid output)\n",
        "- The department that should handle the ticket (a softmax over the set of departments)\n",
        "You can build this model"
      ]
    },
    {
      "cell_type": "markdown",
      "metadata": {
        "id": "daLoQk5JB_ob"
      },
      "source": [
        "Define model inputs."
      ]
    },
    {
      "cell_type": "code",
      "execution_count": 11,
      "metadata": {
        "id": "npI74qFGB_ob"
      },
      "outputs": [],
      "source": [
        "vocabulary_size = 10000\n",
        "num_tags = 100\n",
        "num_departments = 4\n",
        "\n",
        "title = keras.Input(shape=(vocabulary_size,), name=\"title\")\n",
        "text_body = keras.Input(shape=(vocabulary_size,), name=\"text_body\")\n",
        "tags = keras.Input(shape=(num_tags,), name=\"tags\")\n",
        "\n",
        "priority = layers.Dense(1, activation=\"sigmoid\", name=\"priority\")(features)\n"
      ]
    },
    {
      "cell_type": "markdown",
      "metadata": {
        "id": "rzRpRrZLB_oc"
      },
      "source": [
        "Combine input features into a single tensor, features, by concatenating them."
      ]
    },
    {
      "cell_type": "code",
      "execution_count": 12,
      "metadata": {
        "id": "RCzWnyzUB_oc"
      },
      "outputs": [],
      "source": [
        "features = layers.Concatenate() ([title, text_body, tags])"
      ]
    },
    {
      "cell_type": "markdown",
      "metadata": {
        "id": "dRaGqlIkB_oc"
      },
      "source": [
        "Apply an intermediate layer to recombine input features into richer representations."
      ]
    },
    {
      "cell_type": "code",
      "execution_count": 13,
      "metadata": {
        "id": "5zgnoHhuB_oc"
      },
      "outputs": [],
      "source": [
        "features = layers.Dense(64, activation=\"relu\")(features)"
      ]
    },
    {
      "cell_type": "markdown",
      "metadata": {
        "id": "DqMC5o7WB_oc"
      },
      "source": [
        "Define model outputs."
      ]
    },
    {
      "cell_type": "code",
      "execution_count": 14,
      "metadata": {
        "id": "haPkb6gdB_oc"
      },
      "outputs": [],
      "source": [
        "priority =layers.Dense(1, activation=\"sigmoid\", name=\"priority\")(features)\n",
        "department = layers.Dense(\n",
        "    num_departments, activation=\"softmax\", name=\"department\")(features)"
      ]
    },
    {
      "cell_type": "markdown",
      "metadata": {
        "id": "TAZLM6iDB_oc"
      },
      "source": [
        "Create the model by specifying its inputs and outputs."
      ]
    },
    {
      "cell_type": "code",
      "execution_count": 15,
      "metadata": {
        "id": "uxuRH1-gB_oc"
      },
      "outputs": [],
      "source": [
        "model = keras.Model(inputs=[title, text_body, tags],outputs=[priority, department])"
      ]
    },
    {
      "cell_type": "markdown",
      "metadata": {
        "id": "nWRFYNyXB_oc"
      },
      "source": [
        "### Training a multi-input, multi-output model"
      ]
    },
    {
      "cell_type": "markdown",
      "metadata": {
        "id": "8ZIGFak4B_od"
      },
      "source": [
        "dummy input data"
      ]
    },
    {
      "cell_type": "code",
      "execution_count": 16,
      "metadata": {
        "id": "6grGIlDkB_od"
      },
      "outputs": [],
      "source": [
        "import numpy as np\n",
        "\n",
        "num_samples = 1280\n",
        "\n",
        "title_data = np.random.randint(0, 2, size=(num_samples, vocabulary_size))\n",
        "text_body_data = np.random.randint(0, 2, size=(num_samples, vocabulary_size))\n",
        "tags_data = np.random.randint(0, 2, size=(num_samples, num_tags))"
      ]
    },
    {
      "cell_type": "markdown",
      "metadata": {
        "id": "C-YB4H-MB_od"
      },
      "source": [
        "dummy target data"
      ]
    },
    {
      "cell_type": "code",
      "execution_count": 17,
      "metadata": {
        "id": "BHI5ZaVqB_od"
      },
      "outputs": [],
      "source": [
        "priority_data = np.random.random(size=(num_samples, 1))\n",
        "department_data = np.random.randint(0, 2, size=(num_samples, num_departments))"
      ]
    },
    {
      "cell_type": "code",
      "execution_count": 18,
      "metadata": {
        "id": "ndCFvnzOB_od"
      },
      "outputs": [],
      "source": [
        "model.compile(optimizer=\"rmsprop\", loss=[\"mean_squared_error\",\"categorical_crossentropy\"], metrics = [[\"mean_absolute_error\"], [\"accuracy\"]])"
      ]
    },
    {
      "cell_type": "code",
      "execution_count": 19,
      "metadata": {
        "id": "EqYrndAOB_od",
        "outputId": "4d379b7f-660c-4e2b-d417-972a450ab40e",
        "colab": {
          "base_uri": "https://localhost:8080/"
        }
      },
      "outputs": [
        {
          "output_type": "stream",
          "name": "stdout",
          "text": [
            "40/40 [==============================] - 3s 34ms/step - loss: 41.2807 - priority_loss: 0.3207 - department_loss: 40.9599 - priority_mean_absolute_error: 0.4862 - department_accuracy: 0.2562\n",
            "40/40 [==============================] - 1s 12ms/step - loss: 69.6150 - priority_loss: 0.3239 - department_loss: 69.2911 - priority_mean_absolute_error: 0.4891 - department_accuracy: 0.5539\n",
            "40/40 [==============================] - 1s 12ms/step\n"
          ]
        }
      ],
      "source": [
        "model.fit([title_data, text_body_data, tags_data],\n",
        "[priority_data, department_data],\n",
        "epochs=1)\n",
        "model.evaluate([title_data, text_body_data, tags_data],\n",
        "[priority_data, department_data])\n",
        "priority_preds, department_preds = model.predict(\n",
        "[title_data, text_body_data, tags_data])"
      ]
    },
    {
      "cell_type": "markdown",
      "metadata": {
        "id": "KJCdQMItB_od"
      },
      "source": [
        "#### Training a model by providing lists of input and target arrays"
      ]
    },
    {
      "cell_type": "code",
      "execution_count": 20,
      "metadata": {
        "id": "pzPKYXNQB_od",
        "outputId": "6e952d62-a764-4b8c-f4e0-da7be50b9e4f",
        "colab": {
          "base_uri": "https://localhost:8080/"
        }
      },
      "outputs": [
        {
          "output_type": "stream",
          "name": "stdout",
          "text": [
            "40/40 [==============================] - 2s 31ms/step - loss: 51.4072 - priority_loss: 0.3239 - department_loss: 51.0832 - priority_mean_absolute_error: 0.4891 - department_accuracy: 0.2500\n",
            "40/40 [==============================] - 1s 13ms/step - loss: 42.2002 - priority_loss: 0.3239 - department_loss: 41.8763 - priority_mean_absolute_error: 0.4891 - department_accuracy: 0.5328\n",
            "40/40 [==============================] - 1s 12ms/step - loss: 42.2002 - priority_loss: 0.3239 - department_loss: 41.8763 - priority_mean_absolute_error: 0.4891 - department_accuracy: 0.5328\n",
            "40/40 [==============================] - 1s 12ms/step\n"
          ]
        }
      ],
      "source": [
        "num_samples = 1280\n",
        "\n",
        "title_data = np.random.randint(0, 2, size=(num_samples, vocabulary_size))\n",
        "text_body_data = np.random.randint(0, 2, size=(num_samples, vocabulary_size))\n",
        "tags_data = np.random.randint(0, 2, size=(num_samples, num_tags))\n",
        "num_samples = 1280\n",
        "\n",
        "title_data = np.random.randint(0, 2, size=(num_samples, vocabulary_size))\n",
        "text_body_data = np.random.randint(0, 2, size=(num_samples, vocabulary_size))\n",
        "tags_data = np.random.randint(0, 2, size=(num_samples, num_tags))\n",
        "\n",
        "model.compile(optimizer=\"rmsprop\",\n",
        "              loss=[\"mean_squared_error\", \"categorical_crossentropy\"],\n",
        "              metrics=[[\"mean_absolute_error\"],[\"accuracy\"]])\n",
        "model.fit([title_data, text_body_data, tags_data],\n",
        "          [priority_data, department_data],\n",
        "          epochs=1)\n",
        "model.evaluate([title_data, text_body_data, tags_data],\n",
        "               [priority_data, department_data])\n",
        "model.evaluate([title_data, text_body_data, tags_data],\n",
        "               [priority_data, department_data])\n",
        "priority_preds, department_preds = model.predict(\n",
        "    [title_data, text_body_data, tags_data])"
      ]
    },
    {
      "cell_type": "markdown",
      "metadata": {
        "id": "6PBxL6W4B_oe"
      },
      "source": [
        "#### Training a model by providing dicts of input and target arrays"
      ]
    },
    {
      "cell_type": "code",
      "execution_count": 21,
      "metadata": {
        "id": "zUnCRGPFB_oe",
        "outputId": "c1245af0-01b2-4ee1-b116-e9c0c118c758",
        "colab": {
          "base_uri": "https://localhost:8080/"
        }
      },
      "outputs": [
        {
          "output_type": "stream",
          "name": "stdout",
          "text": [
            "40/40 [==============================] - 3s 34ms/step - loss: 66.2855 - priority_loss: 0.3239 - department_loss: 65.9616 - priority_mean_absolute_error: 0.4891 - department_accuracy: 0.2789\n",
            "40/40 [==============================] - 1s 9ms/step - loss: 62.5845 - priority_loss: 0.3239 - department_loss: 62.2606 - priority_mean_absolute_error: 0.4891 - department_accuracy: 0.2523\n",
            "40/40 [==============================] - 0s 9ms/step\n"
          ]
        }
      ],
      "source": [
        "model.compile(optimizer=\"rmsprop\",\n",
        "              loss={\"priority\": \"mean_squared_error\", \"department\":\n",
        "                    \"categorical_crossentropy\"},\n",
        "              metrics={\"priority\": [\"mean_absolute_error\"], \"department\":\n",
        "                      [\"accuracy\"]})\n",
        "model.fit({\"title\": title_data, \"text_body\": text_body_data,\n",
        "           \"tags\": tags_data},\n",
        "          {\"priority\": priority_data, \"department\": department_data},\n",
        "          epochs=1)\n",
        "model.evaluate({\"title\": title_data, \"text_body\": text_body_data,\n",
        "                \"tags\": tags_data},\n",
        "               {\"priority\": priority_data, \"department\": department_data})\n",
        "priority_preds, department_preds = model.predict(\n",
        "    {\"title\": title_data, \"text_body\": text_body_data, \"tags\": tags_data})"
      ]
    },
    {
      "cell_type": "code",
      "execution_count": 22,
      "metadata": {
        "id": "63OCjgVGB_oe",
        "outputId": "fd41800d-63f9-438b-a1f4-afe3dbaabce5",
        "colab": {
          "base_uri": "https://localhost:8080/",
          "height": 369
        }
      },
      "outputs": [
        {
          "output_type": "execute_result",
          "data": {
            "image/png": "[encoded data removed]",
            "text/plain": [
              "<IPython.core.display.Image object>"
            ]
          },
          "metadata": {},
          "execution_count": 22
        }
      ],
      "source": [
        "keras.utils.plot_model(model, \"ticket_classifier.png\")"
      ]
    },
    {
      "cell_type": "markdown",
      "source": [
        "## Subclassing the Model class"
      ],
      "metadata": {
        "id": "CnZY1tIKC6KS"
      }
    },
    {
      "cell_type": "markdown",
      "source": [
        "### Rewriting the previous example as a subclassed model"
      ],
      "metadata": {
        "id": "HaLbbcWqC_m4"
      }
    },
    {
      "cell_type": "code",
      "source": [
        "class CustomerTicketModel(keras.Model):\n",
        "  def __init__(self, num_departments):\n",
        "    super().__init__()\n",
        "    self.concat_layer = layers.Concatenate()\n",
        "    self.mixing_layer = layers.Dense(64, activation=\"relu\")\n",
        "    self.priority_scorer = layers.Dense(1, activation=\"sigmoid\")\n",
        "    self.department_classifier = layers.Dense(\n",
        "    num_departments, activation=\"softmax\")\n",
        "\n",
        "  def call(self, inputs):\n",
        "    title = inputs[\"title\"]\n",
        "    text_body = inputs[\"text_body\"]\n",
        "    tags = inputs[\"tags\"]\n",
        "    features = self.concat_layer([title, text_body, tags])\n",
        "    features = self.mixing_layer(features)\n",
        "    priority = self.priority_scorer(features)\n",
        "    department = self.department_classifier(features)\n",
        "    return priority, department"
      ],
      "metadata": {
        "id": "aX2GPC1UDVlb"
      },
      "execution_count": 31,
      "outputs": []
    },
    {
      "cell_type": "code",
      "source": [
        "model = CustomerTicketModel(num_departments=4)"
      ],
      "metadata": {
        "id": "OScI6tpTC-vQ"
      },
      "execution_count": 32,
      "outputs": []
    },
    {
      "cell_type": "code",
      "source": [
        "priority, department = model(\n",
        "  {\"title\": title_data, \"text_body\": text_body_data, \"tags\": tags_data})"
      ],
      "metadata": {
        "id": "ukSF2t1eCwkX"
      },
      "execution_count": 33,
      "outputs": []
    },
    {
      "cell_type": "code",
      "source": [
        "model.compile(optimizer=\"rmsprop\",\n",
        "              loss=[\"mean_squared_error\", \"categorical_crossentropy\"],\n",
        "              metrics=[[\"mean_absolute_error\"], [\"accuracy\"]])"
      ],
      "metadata": {
        "id": "n8zYuRIp8WNU"
      },
      "execution_count": 34,
      "outputs": []
    },
    {
      "cell_type": "code",
      "source": [
        "model.fit({\"title\": title_data,\n",
        "           \"text_body\": text_body_data,\n",
        "           \"tags\": tags_data},\n",
        "          [priority_data, department_data],\n",
        "          epochs=1)"
      ],
      "metadata": {
        "id": "VGFYoq-29TYB",
        "outputId": "c90992a4-c2c2-4dc2-bec4-42167a628eb8",
        "colab": {
          "base_uri": "https://localhost:8080/"
        }
      },
      "execution_count": 35,
      "outputs": [
        {
          "output_type": "stream",
          "name": "stdout",
          "text": [
            "40/40 [==============================] - 2s 24ms/step - loss: 28.0084 - output_1_loss: 0.3277 - output_2_loss: 27.6806 - output_1_mean_absolute_error: 0.4943 - output_2_accuracy: 0.1734\n"
          ]
        },
        {
          "output_type": "execute_result",
          "data": {
            "text/plain": [
              "<keras.src.callbacks.History at 0x7e355fc9d6c0>"
            ]
          },
          "metadata": {},
          "execution_count": 35
        }
      ]
    },
    {
      "cell_type": "code",
      "source": [
        "model.evaluate({\"title\": title_data,\n",
        "                \"text_body\": text_body_data,\n",
        "                \"tags\": tags_data},\n",
        "               [priority_data, department_data])\n",
        "priority_preds, department_preds = model.predict({\"title\": title_data,\n",
        "                \"text_body\": text_body_data,\n",
        "                \"tags\": tags_data})"
      ],
      "metadata": {
        "id": "SJdAjEb3-THr",
        "outputId": "8143233c-f397-4379-a276-439b821f12e7",
        "colab": {
          "base_uri": "https://localhost:8080/"
        }
      },
      "execution_count": 36,
      "outputs": [
        {
          "output_type": "stream",
          "name": "stdout",
          "text": [
            "40/40 [==============================] - 1s 15ms/step - loss: 13.9938 - output_1_loss: 0.3458 - output_2_loss: 13.6481 - output_1_mean_absolute_error: 0.5109 - output_2_accuracy: 0.1336\n",
            "40/40 [==============================] - 1s 10ms/step\n"
          ]
        }
      ]
    },
    {
      "cell_type": "markdown",
      "source": [
        "## Creating a Functional model that includes a subclassed model"
      ],
      "metadata": {
        "id": "_h4ZuHg__FPq"
      }
    },
    {
      "cell_type": "code",
      "source": [
        "class Classifier(keras.Model):\n",
        "\n",
        "  def __init__(self, num_classes=2):\n",
        "    super().__init__()\n",
        "    if num_classes == 2:\n",
        "      num_units = 1\n",
        "      activation = \"sigmoid\"\n",
        "    else:\n",
        "      num_units = num_classes\n",
        "      activation = \"softmax\"\n",
        "    self.dense = layers.Dense(num_units, activation=activation)\n",
        "\n",
        "  def call(self, inputs):\n",
        "    return self.dense(inputs)\n",
        "\n",
        "\n",
        "inputs = keras.Input(shape= (3,))\n",
        "features = layers.Dense(64, activation=\"relu\")(inputs)\n",
        "outputs = Classifier(num_classes=10)(features)\n",
        "model = keras.Model(inputs=inputs, outputs = outputs)"
      ],
      "metadata": {
        "id": "M531m4Ui_NmZ"
      },
      "execution_count": 40,
      "outputs": []
    },
    {
      "cell_type": "markdown",
      "source": [
        "## Creating a subclassed model that includes a Functional model"
      ],
      "metadata": {
        "id": "-F1hHAvgB38y"
      }
    },
    {
      "cell_type": "code",
      "source": [
        "inputs = keras.Input(shape=(64,))\n",
        "outputs = layers.Dense(1, activation=\"sigmoid\")(inputs)\n",
        "binary_classifier = keras.Model(inputs=inputs, outputs=outputs)\n",
        "\n",
        "class MyModel(keras.Model):\n",
        "  def __init__(self, num_classes=2):\n",
        "    super().__init__()\n",
        "    self.dense = layers.Dense(64, activation=\"relu\")\n",
        "    self.classifier = binary_classifier\n",
        "\n",
        "  def call(self, inputs):\n",
        "    features = self.dense(inputs)\n",
        "    return self.classifier(features)\n",
        "\n",
        "model = MyModel()"
      ],
      "metadata": {
        "id": "qFTNbU-CB-g4"
      },
      "execution_count": 41,
      "outputs": []
    },
    {
      "cell_type": "markdown",
      "source": [
        "## Implementing a custom metric by subclassing the Metric class"
      ],
      "metadata": {
        "id": "Ige6oeWFDJb8"
      }
    },
    {
      "cell_type": "code",
      "source": [
        "from tensorflow.keras.datasets import mnist\n",
        "\n",
        "def get_mnist_model():\n",
        "  inputs = keras.Input(shape=(28 * 28,))\n",
        "  features = layers.Dense(512, activation=\"relu\")(inputs)\n",
        "  features = layers.Dropout(0.5)(features)\n",
        "  outputs = layers.Dense(10, activation=\"softmax\")(features)\n",
        "  model = keras.Model(inputs, outputs)\n",
        "  return model\n",
        "\n",
        "(images, labels), (test_images, test_labels) = mnist.load_data()\n",
        "images = images.reshape((60000, 28 * 28)).astype(\"float32\") / 255\n",
        "test_images = test_images.reshape((10000, 28 * 28)).astype(\"float32\") / 255\n",
        "train_images, val_images = images[10000:], images[:10000]\n",
        "train_labels, val_labels = labels[10000:], labels[:10000]\n",
        "model = get_mnist_model()\n",
        "model.compile(optimizer=\"rmsprop\",\n",
        "              loss=\"sparse_categorical_crossentropy\",\n",
        "              metrics=[\"accuracy\"])\n",
        "model.fit(train_images, train_labels,\n",
        "          epochs=3,\n",
        "          validation_data=(val_images, val_labels))\n",
        "test_metrics = model.evaluate(test_images, test_labels)\n",
        "predictions = model.predict(test_images)"
      ],
      "metadata": {
        "id": "1Ka3ssJCFvgt",
        "outputId": "da782832-303f-4fcb-c64a-164b8ceaf64c",
        "colab": {
          "base_uri": "https://localhost:8080/"
        }
      },
      "execution_count": 44,
      "outputs": [
        {
          "output_type": "stream",
          "name": "stdout",
          "text": [
            "Downloading data from https://storage.googleapis.com/tensorflow/tf-keras-datasets/mnist.npz\n",
            "11490434/11490434 [==============================] - 0s 0us/step\n",
            "Epoch 1/3\n",
            "1563/1563 [==============================] - 15s 9ms/step - loss: 0.2930 - accuracy: 0.9124 - val_loss: 0.1405 - val_accuracy: 0.9589\n",
            "Epoch 2/3\n",
            "1563/1563 [==============================] - 13s 8ms/step - loss: 0.1590 - accuracy: 0.9541 - val_loss: 0.1112 - val_accuracy: 0.9692\n",
            "Epoch 3/3\n",
            "1563/1563 [==============================] - 12s 8ms/step - loss: 0.1273 - accuracy: 0.9638 - val_loss: 0.1111 - val_accuracy: 0.9689\n",
            "313/313 [==============================] - 1s 3ms/step - loss: 0.1007 - accuracy: 0.9720\n",
            "313/313 [==============================] - 1s 3ms/step\n"
          ]
        }
      ]
    },
    {
      "cell_type": "code",
      "source": [
        "import tensorflow as tf\n",
        "\n",
        "class RootMeanSquaredError(keras.metrics.Metric):\n",
        "  def __init__(self, name=\"rmse\", **kwargs):\n",
        "    super().__init__(name=name, ** kwargs)\n",
        "    self.mse_sum=self.add_weight(name=\"mse_sum\", initializer=\"zeros\")\n",
        "    self.total_samples = self.add_weight(\n",
        "        name=\"total_samples\", Initializer=\"zeros\", dtype=\"int32\")\n",
        "\n",
        "  def update_state(self, y_true, y_pred, sample_weight=None):\n",
        "    y_true = tf.one_hot(y_true, depth=tf.shape(y_pred)[1])\n",
        "    mse = tf.reduce_sum(tf.square(y_true - y_pred))\n",
        "    self.mse_sum.assign_add(mse)\n",
        "    num_samples = tf.shape(y_pred)[0]\n",
        "    self.total_samples.assign_add(num_samples)\n",
        "\n",
        "  def result(self):\n",
        "    return tf.sqrt(self.mse_sum / tf.cast(self.total_samples, tf.float32))\n",
        "\n",
        "  def reset_state(self):\n",
        "    self.mse_sum.assign(0.)\n",
        "    self.total_samples.assign(0)\n"
      ],
      "metadata": {
        "id": "8KFKid-L_EdM"
      },
      "execution_count": 45,
      "outputs": []
    },
    {
      "cell_type": "markdown",
      "source": [
        "## A Custom Callback"
      ],
      "metadata": {
        "id": "_lGa1RtNMN3r"
      }
    },
    {
      "cell_type": "code",
      "source": [
        "from matplotlib import pyplot as plt\n",
        "\n",
        "class LossHistory(keras.callbacks.Callback):\n",
        "  def on_train_begin(self, logs):\n",
        "    self.per_batch_losses = []\n",
        "\n",
        "  def on_batch_end(self, batch, logs):\n",
        "    self.per_batch_losses.append(logs.get(\"loss\"))\n",
        "\n",
        "  def on_epoch_end(self, epoch, logs):\n",
        "    plt.clf()\n",
        "    plt.plot(range(len(self.per_batch_losses)), self.per_batch_losses,\n",
        "    label=\"Training loss for each batch\")\n",
        "    plt.xlabel(f\"Batch (epoch {epoch})\")\n",
        "    plt.ylabel(\"Loss\")\n",
        "    plt.legend()\n",
        "    plt.savefig(f\"plot_at_epoch_{epoch}\")\n",
        "    self.per_batch_losses = []\n",
        "\n",
        "model = get_mnist_model()\n",
        "model.compile(optimizer=\"rmsprop\",\n",
        "              loss=\"sparse_categorical_crossentropy\",\n",
        "              metrics=[\"accuracy\"])\n",
        "model.fit(train_images, train_labels,\n",
        "          epochs=10,\n",
        "          callbacks=[LossHistory()],\n",
        "          validation_data=(val_images, val_labels))"
      ],
      "metadata": {
        "id": "OQF_gPCPFkjU",
        "outputId": "a2ab29e9-e256-43f5-a181-2e513be91e52",
        "colab": {
          "base_uri": "https://localhost:8080/",
          "height": 814
        }
      },
      "execution_count": 49,
      "outputs": [
        {
          "output_type": "stream",
          "name": "stdout",
          "text": [
            "Epoch 1/10\n",
            "1563/1563 [==============================] - 14s 9ms/step - loss: 0.2917 - accuracy: 0.9129 - val_loss: 0.1460 - val_accuracy: 0.9582\n",
            "Epoch 2/10\n",
            "1563/1563 [==============================] - 13s 8ms/step - loss: 0.1590 - accuracy: 0.9542 - val_loss: 0.1166 - val_accuracy: 0.9680\n",
            "Epoch 3/10\n",
            "1563/1563 [==============================] - 13s 8ms/step - loss: 0.1284 - accuracy: 0.9647 - val_loss: 0.0966 - val_accuracy: 0.9742\n",
            "Epoch 4/10\n",
            "1563/1563 [==============================] - 13s 9ms/step - loss: 0.1141 - accuracy: 0.9682 - val_loss: 0.0963 - val_accuracy: 0.9745\n",
            "Epoch 5/10\n",
            "1563/1563 [==============================] - 13s 9ms/step - loss: 0.1005 - accuracy: 0.9723 - val_loss: 0.0888 - val_accuracy: 0.9769\n",
            "Epoch 6/10\n",
            "1563/1563 [==============================] - 14s 9ms/step - loss: 0.0961 - accuracy: 0.9737 - val_loss: 0.0964 - val_accuracy: 0.9759\n",
            "Epoch 7/10\n",
            "1563/1563 [==============================] - 13s 9ms/step - loss: 0.0894 - accuracy: 0.9755 - val_loss: 0.1036 - val_accuracy: 0.9772\n",
            "Epoch 8/10\n",
            "1563/1563 [==============================] - 14s 9ms/step - loss: 0.0815 - accuracy: 0.9779 - val_loss: 0.0940 - val_accuracy: 0.9782\n",
            "Epoch 9/10\n",
            "1563/1563 [==============================] - 13s 8ms/step - loss: 0.0764 - accuracy: 0.9798 - val_loss: 0.0960 - val_accuracy: 0.9783\n",
            "Epoch 10/10\n",
            "1563/1563 [==============================] - 13s 9ms/step - loss: 0.0726 - accuracy: 0.9803 - val_loss: 0.0900 - val_accuracy: 0.9800\n"
          ]
        },
        {
          "output_type": "execute_result",
          "data": {
            "text/plain": [
              "<keras.src.callbacks.History at 0x7e355067fa60>"
            ]
          },
          "metadata": {},
          "execution_count": 49
        },
        {
          "output_type": "display_data",
          "data": {
            "text/plain": [
              "<Figure size 640x480 with 1 Axes>"
            ],
            "image/png": "[encoded data removed]"
          },
          "metadata": {}
        }
      ]
    }
  ],
  "metadata": {
    "colab": {
      "provenance": [],
      "include_colab_link": true
    },
    "kernelspec": {
      "display_name": "Python 3 (ipykernel)",
      "language": "python",
      "name": "python3"
    },
    "language_info": {
      "codemirror_mode": {
        "name": "ipython",
        "version": 3
      },
      "file_extension": ".py",
      "mimetype": "text/x-python",
      "name": "python",
      "nbconvert_exporter": "python",
      "pygments_lexer": "ipython3",
      "version": "3.8.19"
    }
  },
  "nbformat": 4,
  "nbformat_minor": 0
}