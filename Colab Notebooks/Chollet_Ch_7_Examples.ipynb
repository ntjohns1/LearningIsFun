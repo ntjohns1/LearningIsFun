{
  "cells": [
    {
      "cell_type": "markdown",
      "metadata": {
        "colab_type": "text",
        "id": "view-in-github"
      },
      "source": [
        "<a href=\"https://colab.research.google.com/github/ntjohns1/LearningIsFun/blob/main/Chollet_Ch_7_Examples.ipynb\" target=\"_parent\"><img src=\"https://colab.research.google.com/assets/colab-badge.svg\" alt=\"Open In Colab\"/></a>"
      ]
    },
    {
      "cell_type": "markdown",
      "metadata": {
        "id": "oP8iNlRy5IFj"
      },
      "source": [
        "#Ch. 7 Examples"
      ]
    },
    {
      "cell_type": "markdown",
      "metadata": {
        "id": "OG-62oOR5dgP"
      },
      "source": [
        "##The Sequential Api"
      ]
    },
    {
      "cell_type": "code",
      "execution_count": 1,
      "metadata": {
        "id": "cpD6iFGdx8zB"
      },
      "outputs": [],
      "source": [
        "import tensorflow\n",
        "from tensorflow import keras\n",
        "from tensorflow.keras import layers"
      ]
    },
    {
      "cell_type": "code",
      "execution_count": 2,
      "metadata": {
        "id": "sOHqrMre2QgF"
      },
      "outputs": [],
      "source": [
        "model = keras.Sequential([\n",
        "    layers.Dense(64, activation=\"relu\"),\n",
        "    layers.Dense(10, \"softmax\")\n",
        "])\n",
        "\n",
        "\n",
        "# model.add(layers.Dense(64, activation=\"relu\"))\n",
        "# model.add(layers.Dense(10, \"softmax\"))"
      ]
    },
    {
      "cell_type": "markdown",
      "metadata": {
        "id": "Gy7z5qtk2e0e"
      },
      "source": [
        "The preceeding sequential model has no weights yet because the layers only get built when called for the first time"
      ]
    },
    {
      "cell_type": "code",
      "execution_count": 3,
      "metadata": {
        "id": "Ed9Aur502gQs"
      },
      "outputs": [],
      "source": [
        "model.build(input_shape=(None, 3))"
      ]
    },
    {
      "cell_type": "code",
      "execution_count": 4,
      "metadata": {
        "colab": {
          "base_uri": "https://localhost:8080/"
        },
        "id": "9AAkUAlt2lYT",
        "outputId": "e47bab34-077b-4387-cd04-4ed8d4d03d17"
      },
      "outputs": [
        {
          "data": {
            "text/plain": [
              "[<tf.Variable 'dense/kernel:0' shape=(3, 64) dtype=float32, numpy=\n",
              " array([[ 0.07820669, -0.10564265,  0.20994312,  0.21064425,  0.06585026,\n",
              "         -0.25090244, -0.01462394,  0.00770503, -0.11665076, -0.11213547,\n",
              "          0.04873115, -0.13362217,  0.24721408,  0.29047352, -0.26197213,\n",
              "         -0.16053036, -0.00947964, -0.17669076, -0.04860729, -0.2686641 ,\n",
              "         -0.02919486, -0.03526068, -0.24401042,  0.17556983, -0.10881332,\n",
              "         -0.06472582,  0.24179631,  0.10602298, -0.13047747, -0.11788207,\n",
              "         -0.0075216 ,  0.27099818, -0.10806474,  0.10606429, -0.00955984,\n",
              "          0.17177856, -0.2894172 ,  0.21351296, -0.02582961,  0.02159688,\n",
              "         -0.22966132,  0.20141757, -0.06195682,  0.06072116,  0.2787559 ,\n",
              "         -0.16963136,  0.14236587,  0.16139174, -0.00682789,  0.05007812,\n",
              "         -0.16702425,  0.28509164,  0.19262877,  0.23487318,  0.22626662,\n",
              "          0.23983604,  0.07327801, -0.14956397,  0.03219801,  0.17277756,\n",
              "          0.06651828, -0.2694921 , -0.01283813, -0.01031271],\n",
              "        [-0.21474107,  0.25448102,  0.12264067, -0.2188414 , -0.04197705,\n",
              "          0.06446853,  0.15898526, -0.22705862,  0.2559433 , -0.11285336,\n",
              "          0.28243452, -0.06054315,  0.13949877,  0.16858321,  0.00854692,\n",
              "          0.08447513,  0.18278176,  0.21112287,  0.2546926 , -0.2292619 ,\n",
              "          0.15320769,  0.18100065, -0.1042047 ,  0.24440426, -0.09111887,\n",
              "          0.22271764, -0.05664764,  0.29862803,  0.1626887 ,  0.06783706,\n",
              "         -0.0748685 ,  0.17551747,  0.16761217, -0.16318613, -0.04450759,\n",
              "          0.2011621 ,  0.19805175, -0.05889423, -0.19646236, -0.08866702,\n",
              "          0.01416054, -0.23861805, -0.03469917, -0.01869059, -0.11726506,\n",
              "         -0.11855303,  0.00372618, -0.03047797,  0.2682498 , -0.00184277,\n",
              "         -0.29673246,  0.18962848,  0.12948453, -0.05917962, -0.0886616 ,\n",
              "         -0.2524818 ,  0.00839782,  0.11603475, -0.29375264, -0.27978152,\n",
              "         -0.21858162,  0.23186785, -0.05477121, -0.17418005],\n",
              "        [ 0.29574835, -0.02253443,  0.26934373,  0.2521909 ,  0.05185995,\n",
              "          0.16716674,  0.25187027, -0.00643161,  0.16516116,  0.03447223,\n",
              "         -0.12951542,  0.19358334, -0.08549027, -0.27786285, -0.18480396,\n",
              "          0.25250095, -0.200481  ,  0.28676724, -0.05527921,  0.02763113,\n",
              "         -0.12523179, -0.26479763,  0.2554282 ,  0.08953488,  0.2056238 ,\n",
              "          0.23988187,  0.00673562, -0.20842895,  0.07867929,  0.2894537 ,\n",
              "          0.08224204,  0.21056163, -0.07202309, -0.2565022 ,  0.09324974,\n",
              "         -0.05467318,  0.27640468, -0.21393648,  0.06115174,  0.07473573,\n",
              "          0.0386745 ,  0.1844351 ,  0.21232802,  0.2011522 , -0.06033823,\n",
              "         -0.04107934,  0.17542565,  0.19890279, -0.22997844,  0.06211913,\n",
              "          0.03041154,  0.00657746,  0.00031763, -0.06536059,  0.05636105,\n",
              "          0.22421116, -0.2974625 , -0.2818929 , -0.2778136 , -0.1770849 ,\n",
              "         -0.04439887, -0.24889293,  0.22109538, -0.04381302]],\n",
              "       dtype=float32)>,\n",
              " <tf.Variable 'dense/bias:0' shape=(64,) dtype=float32, numpy=\n",
              " array([0., 0., 0., 0., 0., 0., 0., 0., 0., 0., 0., 0., 0., 0., 0., 0., 0.,\n",
              "        0., 0., 0., 0., 0., 0., 0., 0., 0., 0., 0., 0., 0., 0., 0., 0., 0.,\n",
              "        0., 0., 0., 0., 0., 0., 0., 0., 0., 0., 0., 0., 0., 0., 0., 0., 0.,\n",
              "        0., 0., 0., 0., 0., 0., 0., 0., 0., 0., 0., 0., 0.], dtype=float32)>,\n",
              " <tf.Variable 'dense_1/kernel:0' shape=(64, 10) dtype=float32, numpy=\n",
              " array([[ 0.24567929,  0.02527964,  0.10844171,  0.0139637 ,  0.20228058,\n",
              "         -0.26489753,  0.2614878 ,  0.27011886,  0.21280527, -0.12554923],\n",
              "        [-0.27711958, -0.12902732, -0.15086961, -0.07993904,  0.2634447 ,\n",
              "          0.19825542,  0.24858412,  0.25812396, -0.04526626,  0.04085198],\n",
              "        [ 0.2600471 , -0.18574938, -0.26144284, -0.06850177,  0.00243083,\n",
              "         -0.13799173, -0.28405303,  0.0685446 ,  0.22880211, -0.19059381],\n",
              "        [ 0.1749967 ,  0.23395762, -0.0152711 ,  0.13781351,  0.21870962,\n",
              "          0.0362466 , -0.06481294, -0.19571415,  0.09932959, -0.02055958],\n",
              "        [ 0.25473323, -0.11651258, -0.24083531, -0.02953818,  0.08692747,\n",
              "         -0.0003072 , -0.2698966 ,  0.15117124, -0.2099041 ,  0.02190399],\n",
              "        [-0.09613085, -0.25409284,  0.24968615,  0.04865929, -0.0628853 ,\n",
              "         -0.09479086, -0.07251564, -0.16205154,  0.08525115,  0.10197297],\n",
              "        [ 0.2702699 , -0.27572072, -0.08769394, -0.07316242, -0.12163155,\n",
              "         -0.27854702,  0.06002507, -0.130091  ,  0.26600793,  0.06179026],\n",
              "        [ 0.14821562,  0.27467415,  0.02735332,  0.019878  ,  0.08000618,\n",
              "          0.01798809,  0.16462985, -0.21905114, -0.27486157, -0.13653769],\n",
              "        [ 0.26189694, -0.25686163, -0.02284351, -0.1106936 , -0.13363542,\n",
              "          0.05417949,  0.27127984, -0.05633862,  0.13348961,  0.08194488],\n",
              "        [-0.08182554, -0.13056216,  0.17866978, -0.05870463,  0.07194102,\n",
              "         -0.09719671, -0.18815903,  0.10746697,  0.28280732, -0.27735597],\n",
              "        [ 0.20861074, -0.17840359,  0.17615637,  0.22495374, -0.19074099,\n",
              "         -0.2346811 , -0.04026079, -0.20376442, -0.16698083,  0.12155789],\n",
              "        [ 0.16036096,  0.153916  ,  0.1093246 ,  0.05556768,  0.03480136,\n",
              "          0.13095671,  0.25786194,  0.00533268,  0.13449204, -0.15831195],\n",
              "        [ 0.02659521, -0.24536209, -0.09814763, -0.11664592, -0.01602814,\n",
              "         -0.01303938,  0.2396858 ,  0.17057073, -0.01267028,  0.08059695],\n",
              "        [-0.2419377 ,  0.11016107, -0.22461003,  0.06366265,  0.12416136,\n",
              "         -0.06111082, -0.14591527, -0.15181388, -0.09738041, -0.23279528],\n",
              "        [-0.11133854,  0.1651895 , -0.18602148,  0.13657469, -0.18989903,\n",
              "         -0.10664381,  0.26682267,  0.07279393,  0.00622901,  0.23996302],\n",
              "        [-0.23404376,  0.1275709 , -0.05436319,  0.23362938,  0.15429264,\n",
              "         -0.21812601, -0.02214581,  0.28313836, -0.09978804, -0.08676529],\n",
              "        [ 0.1379413 , -0.23230696, -0.21069637, -0.11538576,  0.27699533,\n",
              "          0.16853204,  0.25841454,  0.11785215, -0.12804191,  0.08493418],\n",
              "        [-0.11919738, -0.25091398, -0.22225387, -0.14136697, -0.00507382,\n",
              "          0.24329159,  0.14158836,  0.27467063, -0.05270113,  0.1786839 ],\n",
              "        [-0.24050233, -0.03259   , -0.10965565, -0.13764094, -0.21725181,\n",
              "         -0.25826448,  0.05866954,  0.22607931,  0.16676441, -0.1976597 ],\n",
              "        [ 0.05980477, -0.26268345,  0.19320986, -0.19679771,  0.11936983,\n",
              "         -0.14686157,  0.11666432,  0.20351908, -0.12824816,  0.10051072],\n",
              "        [ 0.1436741 , -0.10663635,  0.2568523 , -0.03191066,  0.03320765,\n",
              "          0.10221547, -0.12116657,  0.02277514, -0.18194935, -0.14527982],\n",
              "        [-0.13819152, -0.05018027,  0.2796335 ,  0.02923432, -0.14012142,\n",
              "         -0.14946987, -0.20397997, -0.19077161,  0.09195533,  0.22213486],\n",
              "        [ 0.1531322 , -0.2688009 , -0.01474327,  0.1059064 , -0.14263052,\n",
              "          0.24599805,  0.25410327,  0.27556512, -0.01532799, -0.00270626],\n",
              "        [ 0.04685241,  0.11167848,  0.15896672, -0.1306963 ,  0.21589598,\n",
              "         -0.07925084,  0.04478425,  0.23243311,  0.0683755 , -0.11075775],\n",
              "        [-0.04392035,  0.19943261, -0.27306417,  0.27901748, -0.12371194,\n",
              "          0.03589499,  0.19886473,  0.04362953, -0.15629543,  0.22586039],\n",
              "        [-0.20240107, -0.08484524,  0.17756012, -0.20243129, -0.12660863,\n",
              "          0.22566041,  0.17847085, -0.07752925,  0.09033889,  0.23789778],\n",
              "        [ 0.15280545, -0.26883468, -0.0512221 , -0.17857513,  0.26465532,\n",
              "          0.06174389, -0.28066686,  0.2105394 ,  0.21416354,  0.05870801],\n",
              "        [-0.27212825,  0.00127956, -0.11861673, -0.08895783, -0.18036565,\n",
              "         -0.05918278,  0.23653111,  0.01639909, -0.242984  ,  0.14311966],\n",
              "        [ 0.1699782 ,  0.00166267, -0.16455108, -0.08444199,  0.2120164 ,\n",
              "         -0.01016966, -0.03051105,  0.12776539, -0.17104895, -0.2788291 ],\n",
              "        [-0.12292863, -0.10869671,  0.01701611, -0.22202095,  0.19188681,\n",
              "         -0.00811756, -0.12349436,  0.15254402, -0.0818624 ,  0.14908344],\n",
              "        [-0.1932886 ,  0.20591366,  0.16853902,  0.09428942,  0.16267002,\n",
              "          0.08885783,  0.09721178, -0.0819172 ,  0.27899095,  0.22261658],\n",
              "        [-0.22771332, -0.20360965, -0.05790856,  0.01036015,  0.18680015,\n",
              "          0.11277068,  0.07823998,  0.22874215,  0.14717394,  0.26064357],\n",
              "        [ 0.04547441,  0.2094813 ,  0.0521329 ,  0.12710008,  0.04525465,\n",
              "          0.09575033,  0.20581529,  0.157534  , -0.22353223, -0.09239098],\n",
              "        [ 0.1996502 , -0.07577091,  0.22458395, -0.03985028, -0.07431504,\n",
              "         -0.23489869, -0.21792981, -0.09069206, -0.05312   ,  0.09853265],\n",
              "        [ 0.10519227,  0.27340087,  0.05128944, -0.01623681,  0.05401683,\n",
              "         -0.2528015 ,  0.00581971, -0.24267036,  0.00777763, -0.26123047],\n",
              "        [-0.0141969 ,  0.09848714,  0.14475057,  0.16197804, -0.09716596,\n",
              "         -0.2503895 ,  0.21732935,  0.00606596, -0.08721389, -0.13695629],\n",
              "        [ 0.13043872, -0.13946167,  0.0166145 , -0.17010075,  0.10356089,\n",
              "         -0.09881479, -0.12288213,  0.2806352 ,  0.07137918,  0.23222944],\n",
              "        [-0.03877926, -0.27681184,  0.00812137, -0.19262016, -0.04307921,\n",
              "          0.19865596,  0.06589916,  0.01848871,  0.10547796, -0.07786116],\n",
              "        [-0.01070514, -0.23480079, -0.03784354,  0.04524398,  0.2327356 ,\n",
              "          0.04563212, -0.18685007, -0.04260962,  0.22875026, -0.17655937],\n",
              "        [ 0.2151435 ,  0.02488461, -0.08983788,  0.12949717,  0.14613116,\n",
              "         -0.03769684, -0.17433526, -0.0787793 , -0.17954867, -0.26497456],\n",
              "        [ 0.14079705, -0.08907568, -0.14314593, -0.22695702,  0.12574488,\n",
              "         -0.22344472,  0.02826139,  0.14807257,  0.09649828, -0.13818786],\n",
              "        [-0.00456107, -0.18885416,  0.04516476, -0.02985314,  0.17098188,\n",
              "          0.06502855,  0.18402168, -0.08186451,  0.07691857,  0.04245123],\n",
              "        [ 0.23553392,  0.19669947,  0.2178137 , -0.05810979, -0.25861824,\n",
              "          0.10130692,  0.0970709 ,  0.24964973, -0.1819332 , -0.12241879],\n",
              "        [ 0.0034506 ,  0.24284688,  0.22760972,  0.15993097,  0.2148427 ,\n",
              "          0.07851824, -0.08611117, -0.1340862 , -0.259945  , -0.15982607],\n",
              "        [-0.14260879, -0.27338725,  0.2617931 , -0.13598758, -0.25981995,\n",
              "         -0.05126731, -0.00398013,  0.10440552, -0.02404556, -0.01437339],\n",
              "        [-0.13106677, -0.24960387, -0.0745308 ,  0.26095226, -0.2026416 ,\n",
              "          0.10124901, -0.15150668, -0.00328535,  0.2034623 , -0.18312642],\n",
              "        [ 0.23082176,  0.06083742,  0.01496324,  0.19445044, -0.00412312,\n",
              "          0.27113143, -0.01166552, -0.18912503,  0.20419613,  0.04552361],\n",
              "        [-0.14617847,  0.05056167,  0.25431988,  0.23055306, -0.09701328,\n",
              "          0.10857594, -0.18035749,  0.18470395, -0.11699289,  0.08916312],\n",
              "        [-0.09108378,  0.12347338,  0.11699322, -0.03350359,  0.03175899,\n",
              "         -0.00600138, -0.1410204 ,  0.13101381, -0.06848527, -0.21151492],\n",
              "        [ 0.02398995, -0.06476521,  0.25780448, -0.07305129, -0.24873795,\n",
              "          0.09251174,  0.04705107,  0.00841391, -0.08547206,  0.23559663],\n",
              "        [-0.05679233,  0.01072091, -0.05460997,  0.09205663, -0.25336987,\n",
              "         -0.136459  ,  0.0242146 ,  0.12256977,  0.2525992 , -0.15834114],\n",
              "        [ 0.16190505,  0.24457517,  0.08016294, -0.00979632,  0.19052088,\n",
              "          0.24227348,  0.17854643, -0.01785815,  0.18435773, -0.11505955],\n",
              "        [-0.08523853, -0.15568674, -0.00401598,  0.058548  , -0.11521393,\n",
              "         -0.2720657 ,  0.20506048, -0.04197188,  0.00756624,  0.10715964],\n",
              "        [ 0.17628938,  0.23075214, -0.0186756 , -0.12102014,  0.09406072,\n",
              "         -0.03212368,  0.0243406 , -0.24822837, -0.21655968,  0.11179286],\n",
              "        [ 0.12778291, -0.1047032 , -0.1553175 , -0.11476226,  0.2802954 ,\n",
              "          0.2477983 ,  0.11451834, -0.04252836, -0.16673352,  0.0144538 ],\n",
              "        [-0.03506674, -0.07226336,  0.12014532, -0.25348306, -0.24614513,\n",
              "         -0.04718718, -0.16220817,  0.00108615, -0.06714399,  0.02901375],\n",
              "        [-0.11470544, -0.24600345, -0.12330569, -0.20501187, -0.01778281,\n",
              "         -0.1808653 ,  0.09706175,  0.28049383,  0.02926534, -0.11025992],\n",
              "        [ 0.13064721, -0.00101426, -0.23361708, -0.24899715, -0.10124086,\n",
              "          0.07688212, -0.22347276,  0.13822582,  0.2582083 ,  0.19524902],\n",
              "        [ 0.10764775, -0.2533018 ,  0.09380442, -0.04187533, -0.21925128,\n",
              "          0.11647156, -0.25426668,  0.26768366, -0.0190528 , -0.17842354],\n",
              "        [ 0.15399358,  0.20135227,  0.09337264,  0.19619763,  0.24954662,\n",
              "          0.22450128,  0.10505357,  0.11567184, -0.0287872 ,  0.20769656],\n",
              "        [-0.204678  ,  0.1552175 ,  0.09998199, -0.12235104,  0.0032371 ,\n",
              "         -0.0126628 ,  0.23663792,  0.02459139, -0.00660586,  0.20686749],\n",
              "        [-0.24755171, -0.08513887,  0.23420236,  0.08662027,  0.2647294 ,\n",
              "          0.04947314,  0.01353905, -0.24166594,  0.12603924, -0.15395062],\n",
              "        [ 0.08348569,  0.2533643 ,  0.20467103, -0.08949232, -0.24422033,\n",
              "          0.05107287, -0.26887092,  0.13672593, -0.2750852 , -0.1993071 ],\n",
              "        [-0.24687283, -0.2751559 , -0.11780797, -0.03890859,  0.14413467,\n",
              "          0.13388315,  0.01656792,  0.2422711 , -0.08744533, -0.13791026]],\n",
              "       dtype=float32)>,\n",
              " <tf.Variable 'dense_1/bias:0' shape=(10,) dtype=float32, numpy=array([0., 0., 0., 0., 0., 0., 0., 0., 0., 0.], dtype=float32)>]"
            ]
          },
          "execution_count": 4,
          "metadata": {},
          "output_type": "execute_result"
        }
      ],
      "source": [
        "model.weights"
      ]
    },
    {
      "cell_type": "code",
      "execution_count": 5,
      "metadata": {
        "colab": {
          "base_uri": "https://localhost:8080/"
        },
        "id": "oj8Xs2bT2tv5",
        "outputId": "cfb70cdd-0a15-450d-c483-ed5ec18875fa"
      },
      "outputs": [
        {
          "name": "stdout",
          "output_type": "stream",
          "text": [
            "Model: \"example_model\"\n",
            "_________________________________________________________________\n",
            " Layer (type)                Output Shape              Param #   \n",
            "=================================================================\n",
            " first_layer (Dense)         (None, 64)                256       \n",
            "                                                                 \n",
            " second_layer (Dense)        (None, 10)                650       \n",
            "                                                                 \n",
            "=================================================================\n",
            "Total params: 906 (3.54 KB)\n",
            "Trainable params: 906 (3.54 KB)\n",
            "Non-trainable params: 0 (0.00 Byte)\n",
            "_________________________________________________________________\n"
          ]
        }
      ],
      "source": [
        "# we can also append the layers like this, also note we are naming the model and layers:\n",
        "model= keras.Sequential(name=\"example_model\")\n",
        "model.add(layers.Dense(64, activation=\"relu\", name=\"first_layer\"))\n",
        "model.add(layers.Dense(10, activation=\"softmax\", name=\"second_layer\"))\n",
        "model.build((None, 3))\n",
        "model.summary()\n"
      ]
    },
    {
      "cell_type": "code",
      "execution_count": 6,
      "metadata": {
        "colab": {
          "base_uri": "https://localhost:8080/"
        },
        "id": "mVTj95io4c2v",
        "outputId": "c0b78926-98f7-4a8c-b051-bf73bdb2fb3e"
      },
      "outputs": [
        {
          "name": "stdout",
          "output_type": "stream",
          "text": [
            "Model: \"sequential_1\"\n",
            "_________________________________________________________________\n",
            " Layer (type)                Output Shape              Param #   \n",
            "=================================================================\n",
            " dense_2 (Dense)             (None, 64)                256       \n",
            "                                                                 \n",
            "=================================================================\n",
            "Total params: 256 (1.00 KB)\n",
            "Trainable params: 256 (1.00 KB)\n",
            "Non-trainable params: 0 (0.00 Byte)\n",
            "_________________________________________________________________\n"
          ]
        }
      ],
      "source": [
        "model = keras.Sequential()\n",
        "model.add(keras.Input(shape=(3,)))\n",
        "model.add(layers.Dense(64, activation=\"relu\"))\n",
        "model.summary()"
      ]
    },
    {
      "cell_type": "markdown",
      "metadata": {
        "id": "2MH6ymF35nKf"
      },
      "source": [
        "## The Functional API"
      ]
    },
    {
      "cell_type": "markdown",
      "metadata": {},
      "source": [
        "### Building the previous example with the functional API"
      ]
    },
    {
      "cell_type": "code",
      "execution_count": 7,
      "metadata": {
        "id": "-N0TigaU5tF8"
      },
      "outputs": [],
      "source": [
        "inputs = keras.Input(shape=(3,), name = \"my_input\")\n",
        "features = layers.Dense(64, activation=\"relu\") (inputs)\n",
        "outputs = layers.Dense(10, activation=\"softmax\")(features)\n",
        "model = keras.Model(inputs=inputs, outputs=outputs)"
      ]
    },
    {
      "cell_type": "code",
      "execution_count": 8,
      "metadata": {},
      "outputs": [
        {
          "name": "stdout",
          "output_type": "stream",
          "text": [
            "Model: \"model\"\n",
            "_________________________________________________________________\n",
            " Layer (type)                Output Shape              Param #   \n",
            "=================================================================\n",
            " my_input (InputLayer)       [(None, 3)]               0         \n",
            "                                                                 \n",
            " dense_3 (Dense)             (None, 64)                256       \n",
            "                                                                 \n",
            " dense_4 (Dense)             (None, 10)                650       \n",
            "                                                                 \n",
            "=================================================================\n",
            "Total params: 906 (3.54 KB)\n",
            "Trainable params: 906 (3.54 KB)\n",
            "Non-trainable params: 0 (0.00 Byte)\n",
            "_________________________________________________________________\n"
          ]
        }
      ],
      "source": [
        "model.summary()"
      ]
    },
    {
      "cell_type": "code",
      "execution_count": 9,
      "metadata": {},
      "outputs": [
        {
          "data": {
            "text/plain": [
              "TensorShape([None, 64])"
            ]
          },
          "execution_count": 9,
          "metadata": {},
          "output_type": "execute_result"
        }
      ],
      "source": [
        "features.shape"
      ]
    },
    {
      "cell_type": "markdown",
      "metadata": {},
      "source": [
        "### A Multi-Input Multi-Output Functional Model"
      ]
    },
    {
      "cell_type": "markdown",
      "metadata": {},
      "source": [
        "Let’s say you’re building a system to rank customer support tickets by priority and\n",
        "route them to the appropriate department. Your model has three inputs:\n",
        "- The title of the ticket (text input)\n",
        "- The text body of the ticket (text input)\n",
        "- Any tags added by the user (categorical input, assumed here to be one-hot\n",
        "encoded)\n",
        "\n",
        "We can encode the text inputs as arrays of ones and zeros of size vocabulary_size\n",
        "(see chapter 11 for detailed information about text encoding techniques).\n",
        "Your model also has two outputs:\n",
        "- The priority score of the ticket, a scalar between 0 and 1 (sigmoid output)\n",
        "- The department that should handle the ticket (a softmax over the set of departments)\n",
        "You can build this model"
      ]
    },
    {
      "cell_type": "markdown",
      "metadata": {},
      "source": [
        "Define model inputs."
      ]
    },
    {
      "cell_type": "code",
      "execution_count": 11,
      "metadata": {},
      "outputs": [],
      "source": [
        "vocabulary_size = 10000\n",
        "num_tags = 100\n",
        "num_departments = 4\n",
        "\n",
        "title = keras.Input(shape=(vocabulary_size,), name=\"title\")\n",
        "text_body = keras.Input(shape=(vocabulary_size,), name=\"text_body\")\n",
        "tags = keras.Input(shape=(num_tags,), name=\"tags\")\n",
        "\n",
        "priority = layers.Dense(1, activation=\"sigmoid\", name=\"priority\")(features)\n"
      ]
    },
    {
      "cell_type": "markdown",
      "metadata": {},
      "source": [
        "Combine input features into a single tensor, features, by concatenating them."
      ]
    },
    {
      "cell_type": "code",
      "execution_count": 12,
      "metadata": {},
      "outputs": [],
      "source": [
        "features = layers.Concatenate() ([title, text_body, tags])"
      ]
    },
    {
      "cell_type": "markdown",
      "metadata": {},
      "source": [
        "Apply an intermediate layer to recombine input features into richer representations."
      ]
    },
    {
      "cell_type": "code",
      "execution_count": 13,
      "metadata": {},
      "outputs": [],
      "source": [
        "features = layers.Dense(64, activation=\"relu\")(features)"
      ]
    },
    {
      "cell_type": "markdown",
      "metadata": {},
      "source": [
        "Define model outputs."
      ]
    },
    {
      "cell_type": "code",
      "execution_count": 15,
      "metadata": {},
      "outputs": [],
      "source": [
        "priority =layers.Dense(1, activation=\"sigmoid\", name=\"priority\")(features)\n",
        "department = layers.Dense(\n",
        "    num_departments, activation=\"softmax\", name=\"department\")(features)"
      ]
    },
    {
      "cell_type": "markdown",
      "metadata": {},
      "source": [
        "Create the model by specifying its inputs and outputs."
      ]
    },
    {
      "cell_type": "code",
      "execution_count": 16,
      "metadata": {},
      "outputs": [],
      "source": [
        "model = keras.Model(inputs=[title, text_body, tags],outputs=[priority, department])"
      ]
    },
    {
      "cell_type": "markdown",
      "metadata": {},
      "source": [
        "### Training a multi-input, multi-output model"
      ]
    },
    {
      "cell_type": "markdown",
      "metadata": {},
      "source": [
        "dummy input data"
      ]
    },
    {
      "cell_type": "code",
      "execution_count": 17,
      "metadata": {},
      "outputs": [],
      "source": [
        "import numpy as np\n",
        "\n",
        "num_samples = 1280\n",
        "\n",
        "title_data = np.random.randint(0, 2, size=(num_samples, vocabulary_size))\n",
        "text_body_data = np.random.randint(0, 2, size=(num_samples, vocabulary_size))\n",
        "tags_data = np.random.randint(0, 2, size=(num_samples, num_tags))"
      ]
    },
    {
      "cell_type": "markdown",
      "metadata": {},
      "source": [
        "dummy target data"
      ]
    },
    {
      "cell_type": "code",
      "execution_count": 18,
      "metadata": {},
      "outputs": [],
      "source": [
        "priority_data = np.random.random(size=(num_samples, 1))\n",
        "department_data = np.random.randint(0, 2, size=(num_samples, num_departments))"
      ]
    },
    {
      "cell_type": "code",
      "execution_count": 19,
      "metadata": {},
      "outputs": [],
      "source": [
        "model.compile(optimizer=\"rmsprop\", loss=[\"mean_squared_error\",\"categorical_crossentropy\"], metrics = [[\"mean_absolute_error\"], [\"accuracy\"]])"
      ]
    },
    {
      "cell_type": "code",
      "execution_count": 20,
      "metadata": {},
      "outputs": [
        {
          "name": "stdout",
          "output_type": "stream",
          "text": [
            "40/40 [==============================] - 0s 6ms/step - loss: 34.4915 - priority_loss: 0.3180 - department_loss: 34.1735 - priority_mean_absolute_error: 0.4868 - department_accuracy: 0.2711\n",
            "40/40 [==============================] - 0s 2ms/step - loss: 24.2671 - priority_loss: 0.3387 - department_loss: 23.9284 - priority_mean_absolute_error: 0.5077 - department_accuracy: 0.2734\n",
            "40/40 [==============================] - 0s 2ms/step\n"
          ]
        }
      ],
      "source": [
        "model.fit([title_data, text_body_data, tags_data],\n",
        "[priority_data, department_data],\n",
        "epochs=1)\n",
        "model.evaluate([title_data, text_body_data, tags_data],\n",
        "[priority_data, department_data])\n",
        "priority_preds, department_preds = model.predict(\n",
        "[title_data, text_body_data, tags_data])"
      ]
    },
    {
      "cell_type": "markdown",
      "metadata": {},
      "source": [
        "#### Training a model by providing lists of input and target arrays"
      ]
    },
    {
      "cell_type": "code",
      "execution_count": null,
      "metadata": {},
      "outputs": [],
      "source": [
        "num_samples = 1280\n",
        "\n",
        "title_data = np.random.randint(0, 2, size=(num_samples, vocabulary_size))\n",
        "text_body_data = np.random.randint(0, 2, size=(num_samples, vocabulary_size))\n",
        "tags_data = np.random.randint(0, 2, size=(num_samples, num_tags))\n",
        "num_samples = 1280\n",
        "\n",
        "title_data = np.random.randint(0, 2, size=(num_samples, vocabulary_size))\n",
        "text_body_data = np.random.randint(0, 2, size=(num_samples, vocabulary_size))\n",
        "tags_data = np.random.randint(0, 2, size=(num_samples, num_tags))\n",
        "\n",
        "model.compile(optimizer=\"rmsprop\",\n",
        "              loss=[\"mean_squared_error\", \"categorical_crossentropy\"],\n",
        "              metrics=[[\"mean_absolute_error\"],[\"accuracy\"]])\n",
        "model.fit([title_data, text_body_data, tags_data],\n",
        "          [priority_data, department_data],\n",
        "          epochs=1)\n",
        "model.evaluate([title_dat, text_body_dat, tags_data],\n",
        "               [priority_data, department_data])\n",
        "model.evaluate([title_dat, text_body_dat, tags_data],\n",
        "               [priority_data, department_data])\n",
        "priority_preds, department_preds = model.predict(\n",
        "    [title_data, text_body_data, tags_data])"
      ]
    },
    {
      "cell_type": "markdown",
      "metadata": {},
      "source": [
        "#### Training a model by providing dicts of input and target arrays"
      ]
    },
    {
      "cell_type": "code",
      "execution_count": 21,
      "metadata": {},
      "outputs": [
        {
          "name": "stdout",
          "output_type": "stream",
          "text": [
            "40/40 [==============================] - 0s 6ms/step - loss: 45.8888 - priority_loss: 0.3387 - department_loss: 45.5502 - priority_mean_absolute_error: 0.5077 - department_accuracy: 0.2484\n",
            "40/40 [==============================] - 0s 2ms/step - loss: 60.6725 - priority_loss: 0.3387 - department_loss: 60.3339 - priority_mean_absolute_error: 0.5077 - department_accuracy: 0.1242\n",
            "40/40 [==============================] - 0s 2ms/step\n"
          ]
        }
      ],
      "source": [
        "model.compile(optimizer=\"rmsprop\",\n",
        "              loss={\"priority\": \"mean_squared_error\", \"department\":\n",
        "                    \"categorical_crossentropy\"},\n",
        "              metrics={\"priority\": [\"mean_absolute_error\"], \"department\":\n",
        "                      [\"accuracy\"]})\n",
        "model.fit({\"title\": title_data, \"text_body\": text_body_data,\n",
        "           \"tags\": tags_data},\n",
        "          {\"priority\": priority_data, \"department\": department_data},\n",
        "          epochs=1)\n",
        "model.evaluate({\"title\": title_data, \"text_body\": text_body_data,\n",
        "                \"tags\": tags_data},\n",
        "               {\"priority\": priority_data, \"department\": department_data})\n",
        "priority_preds, department_preds = model.predict(\n",
        "    {\"title\": title_data, \"text_body\": text_body_data, \"tags\": tags_data})"
      ]
    },
    {
      "cell_type": "code",
      "execution_count": 24,
      "metadata": {},
      "outputs": [
        {
          "name": "stdout",
          "output_type": "stream",
          "text": [
            "You must install pydot (`pip install pydot`) and install graphviz (see instructions at https://graphviz.gitlab.io/download/) for plot_model to work.\n"
          ]
        }
      ],
      "source": [
        "keras.utils.plot_model(model, \"ticket_classifier.png\")"
      ]
    }
  ],
  "metadata": {
    "colab": {
      "authorship_tag": "ABX9TyMO2Gz/Z78lU3RllyAL/YG9",
      "include_colab_link": true,
      "provenance": []
    },
    "kernelspec": {
      "display_name": "Python 3 (ipykernel)",
      "language": "python",
      "name": "python3"
    },
    "language_info": {
      "codemirror_mode": {
        "name": "ipython",
        "version": 3
      },
      "file_extension": ".py",
      "mimetype": "text/x-python",
      "name": "python",
      "nbconvert_exporter": "python",
      "pygments_lexer": "ipython3",
      "version": "3.8.19"
    }
  },
  "nbformat": 4,
  "nbformat_minor": 0
}
