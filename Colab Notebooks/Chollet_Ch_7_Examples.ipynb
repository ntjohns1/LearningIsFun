{
  "cells": [
    {
      "cell_type": "markdown",
      "metadata": {
        "id": "view-in-github",
        "colab_type": "text"
      },
      "source": [
        "<a href=\"https://colab.research.google.com/github/ntjohns1/LearningIsFun/blob/main/Colab%20Notebooks/Chollet_Ch_7_Examples.ipynb\" target=\"_parent\"><img src=\"https://colab.research.google.com/assets/colab-badge.svg\" alt=\"Open In Colab\"/></a>"
      ]
    },
    {
      "cell_type": "markdown",
      "metadata": {
        "id": "oP8iNlRy5IFj"
      },
      "source": [
        "#Ch. 7 Examples"
      ]
    },
    {
      "cell_type": "markdown",
      "metadata": {
        "id": "OG-62oOR5dgP"
      },
      "source": [
        "##The Sequential Api"
      ]
    },
    {
      "cell_type": "code",
      "execution_count": null,
      "metadata": {
        "id": "cpD6iFGdx8zB"
      },
      "outputs": [],
      "source": [
        "import tensorflow\n",
        "from tensorflow import keras\n",
        "from tensorflow.keras import layers"
      ]
    },
    {
      "cell_type": "code",
      "execution_count": null,
      "metadata": {
        "id": "sOHqrMre2QgF"
      },
      "outputs": [],
      "source": [
        "model = keras.Sequential([\n",
        "    layers.Dense(64, activation=\"relu\"),\n",
        "    layers.Dense(10, \"softmax\")\n",
        "])\n",
        "\n",
        "\n",
        "# model.add(layers.Dense(64, activation=\"relu\"))\n",
        "# model.add(layers.Dense(10, \"softmax\"))"
      ]
    },
    {
      "cell_type": "markdown",
      "metadata": {
        "id": "Gy7z5qtk2e0e"
      },
      "source": [
        "The preceeding sequential model has no weights yet because the layers only get built when called for the first time"
      ]
    },
    {
      "cell_type": "code",
      "execution_count": null,
      "metadata": {
        "id": "Ed9Aur502gQs"
      },
      "outputs": [],
      "source": [
        "model.build(input_shape=(None, 3))"
      ]
    },
    {
      "cell_type": "code",
      "execution_count": null,
      "metadata": {
        "id": "9AAkUAlt2lYT"
      },
      "outputs": [],
      "source": [
        "model.weights"
      ]
    },
    {
      "cell_type": "code",
      "execution_count": null,
      "metadata": {
        "colab": {
          "base_uri": "https://localhost:8080/"
        },
        "id": "oj8Xs2bT2tv5",
        "outputId": "cfb70cdd-0a15-450d-c483-ed5ec18875fa"
      },
      "outputs": [
        {
          "name": "stdout",
          "output_type": "stream",
          "text": [
            "Model: \"example_model\"\n",
            "_________________________________________________________________\n",
            " Layer (type)                Output Shape              Param #   \n",
            "=================================================================\n",
            " first_layer (Dense)         (None, 64)                256       \n",
            "                                                                 \n",
            " second_layer (Dense)        (None, 10)                650       \n",
            "                                                                 \n",
            "=================================================================\n",
            "Total params: 906 (3.54 KB)\n",
            "Trainable params: 906 (3.54 KB)\n",
            "Non-trainable params: 0 (0.00 Byte)\n",
            "_________________________________________________________________\n"
          ]
        }
      ],
      "source": [
        "# we can also append the layers like this, also note we are naming the model and layers:\n",
        "model= keras.Sequential(name=\"example_model\")\n",
        "model.add(layers.Dense(64, activation=\"relu\", name=\"first_layer\"))\n",
        "model.add(layers.Dense(10, activation=\"softmax\", name=\"second_layer\"))\n",
        "model.build((None, 3))\n",
        "model.summary()\n"
      ]
    },
    {
      "cell_type": "code",
      "execution_count": null,
      "metadata": {
        "colab": {
          "base_uri": "https://localhost:8080/"
        },
        "id": "mVTj95io4c2v",
        "outputId": "c0b78926-98f7-4a8c-b051-bf73bdb2fb3e"
      },
      "outputs": [
        {
          "name": "stdout",
          "output_type": "stream",
          "text": [
            "Model: \"sequential_1\"\n",
            "_________________________________________________________________\n",
            " Layer (type)                Output Shape              Param #   \n",
            "=================================================================\n",
            " dense_2 (Dense)             (None, 64)                256       \n",
            "                                                                 \n",
            "=================================================================\n",
            "Total params: 256 (1.00 KB)\n",
            "Trainable params: 256 (1.00 KB)\n",
            "Non-trainable params: 0 (0.00 Byte)\n",
            "_________________________________________________________________\n"
          ]
        }
      ],
      "source": [
        "model = keras.Sequential()\n",
        "model.add(keras.Input(shape=(3,)))\n",
        "model.add(layers.Dense(64, activation=\"relu\"))\n",
        "model.summary()"
      ]
    },
    {
      "cell_type": "markdown",
      "metadata": {
        "id": "2MH6ymF35nKf"
      },
      "source": [
        "## The Functional API"
      ]
    },
    {
      "cell_type": "markdown",
      "metadata": {
        "id": "aIAc3tI0B_oa"
      },
      "source": [
        "### Building the previous example with the functional API"
      ]
    },
    {
      "cell_type": "code",
      "execution_count": null,
      "metadata": {
        "id": "-N0TigaU5tF8"
      },
      "outputs": [],
      "source": [
        "inputs = keras.Input(shape=(3,), name = \"my_input\")\n",
        "features = layers.Dense(64, activation=\"relu\") (inputs)\n",
        "outputs = layers.Dense(10, activation=\"softmax\")(features)\n",
        "model = keras.Model(inputs=inputs, outputs=outputs)"
      ]
    },
    {
      "cell_type": "code",
      "execution_count": null,
      "metadata": {
        "id": "c2n4NWt4B_oa",
        "outputId": "26c816f2-3f1d-4b1f-ee72-0424d82350ea",
        "colab": {
          "base_uri": "https://localhost:8080/"
        }
      },
      "outputs": [
        {
          "output_type": "stream",
          "name": "stdout",
          "text": [
            "Model: \"model_1\"\n",
            "__________________________________________________________________________________________________\n",
            " Layer (type)                Output Shape                 Param #   Connected to                  \n",
            "==================================================================================================\n",
            " title (InputLayer)          [(None, 10000)]              0         []                            \n",
            "                                                                                                  \n",
            " text_body (InputLayer)      [(None, 10000)]              0         []                            \n",
            "                                                                                                  \n",
            " tags (InputLayer)           [(None, 100)]                0         []                            \n",
            "                                                                                                  \n",
            " concatenate (Concatenate)   (None, 20100)                0         ['title[0][0]',               \n",
            "                                                                     'text_body[0][0]',           \n",
            "                                                                     'tags[0][0]']                \n",
            "                                                                                                  \n",
            " dense_5 (Dense)             (None, 64)                   1286464   ['concatenate[0][0]']         \n",
            "                                                                                                  \n",
            " priority (Dense)            (None, 1)                    65        ['dense_5[0][0]']             \n",
            "                                                                                                  \n",
            " department (Dense)          (None, 4)                    260       ['dense_5[0][0]']             \n",
            "                                                                                                  \n",
            "==================================================================================================\n",
            "Total params: 1286789 (4.91 MB)\n",
            "Trainable params: 1286789 (4.91 MB)\n",
            "Non-trainable params: 0 (0.00 Byte)\n",
            "__________________________________________________________________________________________________\n"
          ]
        }
      ],
      "source": [
        "model.summary()"
      ]
    },
    {
      "cell_type": "code",
      "execution_count": null,
      "metadata": {
        "id": "MCQ6w5PTB_ob",
        "outputId": "2639b066-7ae9-44e1-e0d9-e29e751eb632",
        "colab": {
          "base_uri": "https://localhost:8080/"
        }
      },
      "outputs": [
        {
          "output_type": "execute_result",
          "data": {
            "text/plain": [
              "TensorShape([None, 64])"
            ]
          },
          "metadata": {},
          "execution_count": 26
        }
      ],
      "source": [
        "features.shape"
      ]
    },
    {
      "cell_type": "markdown",
      "metadata": {
        "id": "MDVLl13JB_ob"
      },
      "source": [
        "### A Multi-Input Multi-Output Functional Model"
      ]
    },
    {
      "cell_type": "markdown",
      "metadata": {
        "id": "n5IHwxZVB_ob"
      },
      "source": [
        "Let’s say you’re building a system to rank customer support tickets by priority and\n",
        "route them to the appropriate department. Your model has three inputs:\n",
        "- The title of the ticket (text input)\n",
        "- The text body of the ticket (text input)\n",
        "- Any tags added by the user (categorical input, assumed here to be one-hot\n",
        "encoded)\n",
        "\n",
        "We can encode the text inputs as arrays of ones and zeros of size vocabulary_size\n",
        "(see chapter 11 for detailed information about text encoding techniques).\n",
        "Your model also has two outputs:\n",
        "- The priority score of the ticket, a scalar between 0 and 1 (sigmoid output)\n",
        "- The department that should handle the ticket (a softmax over the set of departments)\n",
        "You can build this model"
      ]
    },
    {
      "cell_type": "markdown",
      "metadata": {
        "id": "daLoQk5JB_ob"
      },
      "source": [
        "Define model inputs."
      ]
    },
    {
      "cell_type": "code",
      "execution_count": null,
      "metadata": {
        "id": "npI74qFGB_ob"
      },
      "outputs": [],
      "source": [
        "vocabulary_size = 10000\n",
        "num_tags = 100\n",
        "num_departments = 4\n",
        "\n",
        "title = keras.Input(shape=(vocabulary_size,), name=\"title\")\n",
        "text_body = keras.Input(shape=(vocabulary_size,), name=\"text_body\")\n",
        "tags = keras.Input(shape=(num_tags,), name=\"tags\")\n",
        "\n",
        "priority = layers.Dense(1, activation=\"sigmoid\", name=\"priority\")(features)\n"
      ]
    },
    {
      "cell_type": "markdown",
      "metadata": {
        "id": "rzRpRrZLB_oc"
      },
      "source": [
        "Combine input features into a single tensor, features, by concatenating them."
      ]
    },
    {
      "cell_type": "code",
      "execution_count": null,
      "metadata": {
        "id": "RCzWnyzUB_oc"
      },
      "outputs": [],
      "source": [
        "features = layers.Concatenate() ([title, text_body, tags])"
      ]
    },
    {
      "cell_type": "markdown",
      "metadata": {
        "id": "dRaGqlIkB_oc"
      },
      "source": [
        "Apply an intermediate layer to recombine input features into richer representations."
      ]
    },
    {
      "cell_type": "code",
      "execution_count": null,
      "metadata": {
        "id": "5zgnoHhuB_oc"
      },
      "outputs": [],
      "source": [
        "features = layers.Dense(64, activation=\"relu\")(features)"
      ]
    },
    {
      "cell_type": "markdown",
      "metadata": {
        "id": "DqMC5o7WB_oc"
      },
      "source": [
        "Define model outputs."
      ]
    },
    {
      "cell_type": "code",
      "execution_count": null,
      "metadata": {
        "id": "haPkb6gdB_oc"
      },
      "outputs": [],
      "source": [
        "priority =layers.Dense(1, activation=\"sigmoid\", name=\"priority\")(features)\n",
        "department = layers.Dense(\n",
        "    num_departments, activation=\"softmax\", name=\"department\")(features)"
      ]
    },
    {
      "cell_type": "markdown",
      "metadata": {
        "id": "TAZLM6iDB_oc"
      },
      "source": [
        "Create the model by specifying its inputs and outputs."
      ]
    },
    {
      "cell_type": "code",
      "execution_count": null,
      "metadata": {
        "id": "uxuRH1-gB_oc"
      },
      "outputs": [],
      "source": [
        "model = keras.Model(inputs=[title, text_body, tags],outputs=[priority, department])"
      ]
    },
    {
      "cell_type": "markdown",
      "metadata": {
        "id": "nWRFYNyXB_oc"
      },
      "source": [
        "### Training a multi-input, multi-output model"
      ]
    },
    {
      "cell_type": "markdown",
      "metadata": {
        "id": "8ZIGFak4B_od"
      },
      "source": [
        "dummy input data"
      ]
    },
    {
      "cell_type": "code",
      "execution_count": null,
      "metadata": {
        "id": "6grGIlDkB_od"
      },
      "outputs": [],
      "source": [
        "import numpy as np\n",
        "\n",
        "num_samples = 1280\n",
        "\n",
        "title_data = np.random.randint(0, 2, size=(num_samples, vocabulary_size))\n",
        "text_body_data = np.random.randint(0, 2, size=(num_samples, vocabulary_size))\n",
        "tags_data = np.random.randint(0, 2, size=(num_samples, num_tags))"
      ]
    },
    {
      "cell_type": "markdown",
      "metadata": {
        "id": "C-YB4H-MB_od"
      },
      "source": [
        "dummy target data"
      ]
    },
    {
      "cell_type": "code",
      "execution_count": null,
      "metadata": {
        "id": "BHI5ZaVqB_od"
      },
      "outputs": [],
      "source": [
        "priority_data = np.random.random(size=(num_samples, 1))\n",
        "department_data = np.random.randint(0, 2, size=(num_samples, num_departments))"
      ]
    },
    {
      "cell_type": "code",
      "execution_count": null,
      "metadata": {
        "id": "ndCFvnzOB_od"
      },
      "outputs": [],
      "source": [
        "model.compile(optimizer=\"rmsprop\", loss=[\"mean_squared_error\",\"categorical_crossentropy\"], metrics = [[\"mean_absolute_error\"], [\"accuracy\"]])"
      ]
    },
    {
      "cell_type": "code",
      "execution_count": null,
      "metadata": {
        "id": "EqYrndAOB_od",
        "outputId": "dc754336-4106-48c8-8ba2-bdd98db6906b",
        "colab": {
          "base_uri": "https://localhost:8080/"
        }
      },
      "outputs": [
        {
          "output_type": "stream",
          "name": "stdout",
          "text": [
            "40/40 [==============================] - 2s 25ms/step - loss: 39.6995 - priority_loss: 0.3308 - department_loss: 39.3686 - priority_mean_absolute_error: 0.4945 - department_accuracy: 0.2773\n",
            "40/40 [==============================] - 1s 14ms/step - loss: 28.3367 - priority_loss: 0.3297 - department_loss: 28.0070 - priority_mean_absolute_error: 0.4926 - department_accuracy: 0.0938\n",
            "40/40 [==============================] - 1s 22ms/step\n"
          ]
        }
      ],
      "source": [
        "model.fit([title_data, text_body_data, tags_data],\n",
        "[priority_data, department_data],\n",
        "epochs=1)\n",
        "model.evaluate([title_data, text_body_data, tags_data],\n",
        "[priority_data, department_data])\n",
        "priority_preds, department_preds = model.predict(\n",
        "[title_data, text_body_data, tags_data])"
      ]
    },
    {
      "cell_type": "markdown",
      "metadata": {
        "id": "KJCdQMItB_od"
      },
      "source": [
        "#### Training a model by providing lists of input and target arrays"
      ]
    },
    {
      "cell_type": "code",
      "execution_count": null,
      "metadata": {
        "id": "pzPKYXNQB_od",
        "outputId": "75683f16-8db3-4fff-de90-01c3970f8eae",
        "colab": {
          "base_uri": "https://localhost:8080/"
        }
      },
      "outputs": [
        {
          "output_type": "stream",
          "name": "stdout",
          "text": [
            "40/40 [==============================] - 2s 29ms/step - loss: 68.9564 - priority_loss: 0.3445 - department_loss: 68.6120 - priority_mean_absolute_error: 0.5074 - department_accuracy: 0.2484\n",
            "40/40 [==============================] - 1s 7ms/step - loss: 62.1300 - priority_loss: 0.3445 - department_loss: 61.7855 - priority_mean_absolute_error: 0.5074 - department_accuracy: 0.0688\n",
            "40/40 [==============================] - 1s 15ms/step - loss: 62.1300 - priority_loss: 0.3445 - department_loss: 61.7855 - priority_mean_absolute_error: 0.5074 - department_accuracy: 0.0688\n",
            "40/40 [==============================] - 0s 8ms/step\n"
          ]
        }
      ],
      "source": [
        "num_samples = 1280\n",
        "\n",
        "title_data = np.random.randint(0, 2, size=(num_samples, vocabulary_size))\n",
        "text_body_data = np.random.randint(0, 2, size=(num_samples, vocabulary_size))\n",
        "tags_data = np.random.randint(0, 2, size=(num_samples, num_tags))\n",
        "num_samples = 1280\n",
        "\n",
        "title_data = np.random.randint(0, 2, size=(num_samples, vocabulary_size))\n",
        "text_body_data = np.random.randint(0, 2, size=(num_samples, vocabulary_size))\n",
        "tags_data = np.random.randint(0, 2, size=(num_samples, num_tags))\n",
        "\n",
        "model.compile(optimizer=\"rmsprop\",\n",
        "              loss=[\"mean_squared_error\", \"categorical_crossentropy\"],\n",
        "              metrics=[[\"mean_absolute_error\"],[\"accuracy\"]])\n",
        "model.fit([title_data, text_body_data, tags_data],\n",
        "          [priority_data, department_data],\n",
        "          epochs=1)\n",
        "model.evaluate([title_data, text_body_data, tags_data],\n",
        "               [priority_data, department_data])\n",
        "model.evaluate([title_data, text_body_data, tags_data],\n",
        "               [priority_data, department_data])\n",
        "priority_preds, department_preds = model.predict(\n",
        "    [title_data, text_body_data, tags_data])"
      ]
    },
    {
      "cell_type": "markdown",
      "metadata": {
        "id": "6PBxL6W4B_oe"
      },
      "source": [
        "#### Training a model by providing dicts of input and target arrays"
      ]
    },
    {
      "cell_type": "code",
      "execution_count": null,
      "metadata": {
        "id": "zUnCRGPFB_oe",
        "outputId": "106a4279-ca35-421d-c2de-5f9eaedac1f7",
        "colab": {
          "base_uri": "https://localhost:8080/"
        }
      },
      "outputs": [
        {
          "output_type": "stream",
          "name": "stdout",
          "text": [
            "40/40 [==============================] - 2s 18ms/step - loss: 80.9370 - priority_loss: 0.3297 - department_loss: 80.6073 - priority_mean_absolute_error: 0.4926 - department_accuracy: 0.2797\n",
            "40/40 [==============================] - 1s 10ms/step - loss: 100.8330 - priority_loss: 0.3297 - department_loss: 100.5033 - priority_mean_absolute_error: 0.4926 - department_accuracy: 0.0688\n",
            "40/40 [==============================] - 1s 11ms/step\n"
          ]
        }
      ],
      "source": [
        "model.compile(optimizer=\"rmsprop\",\n",
        "              loss={\"priority\": \"mean_squared_error\", \"department\":\n",
        "                    \"categorical_crossentropy\"},\n",
        "              metrics={\"priority\": [\"mean_absolute_error\"], \"department\":\n",
        "                      [\"accuracy\"]})\n",
        "model.fit({\"title\": title_data, \"text_body\": text_body_data,\n",
        "           \"tags\": tags_data},\n",
        "          {\"priority\": priority_data, \"department\": department_data},\n",
        "          epochs=1)\n",
        "model.evaluate({\"title\": title_data, \"text_body\": text_body_data,\n",
        "                \"tags\": tags_data},\n",
        "               {\"priority\": priority_data, \"department\": department_data})\n",
        "priority_preds, department_preds = model.predict(\n",
        "    {\"title\": title_data, \"text_body\": text_body_data, \"tags\": tags_data})"
      ]
    },
    {
      "cell_type": "code",
      "execution_count": null,
      "metadata": {
        "id": "63OCjgVGB_oe",
        "outputId": "63656a8d-d292-4d76-9ebe-a7292cc279cd",
        "colab": {
          "base_uri": "https://localhost:8080/",
          "height": 369
        }
      },
      "outputs": [
        {
          "output_type": "execute_result",
          "data": {
            "image/png": "[encoded data removed]",
            "text/plain": [
              "<IPython.core.display.Image object>"
            ]
          },
          "metadata": {},
          "execution_count": 39
        }
      ],
      "source": [
        "keras.utils.plot_model(model, \"ticket_classifier.png\")"
      ]
    },
    {
      "cell_type": "markdown",
      "source": [
        "## Subclassing the Model class"
      ],
      "metadata": {
        "id": "CnZY1tIKC6KS"
      }
    },
    {
      "cell_type": "markdown",
      "source": [
        "### Rewriting the previous example as a subclassed model"
      ],
      "metadata": {
        "id": "HaLbbcWqC_m4"
      }
    },
    {
      "cell_type": "code",
      "source": [
        "class CustomerTicketModel(keras.Model):\n",
        "  def __init__(self, num_departments):\n",
        "    super().__init__()\n",
        "    self.concat_layer = layers.Concatenate()\n",
        "    self.mixing_layer = layers.Dense(64, activation=\"relu\")\n",
        "    self.priority_scorer = layers.Dense(1, activation=\"sigmoid\")\n",
        "    self.department_classifier = layers.Dense(\n",
        "    num_departments, activation=\"softmax\")\n",
        "\n",
        "  def call(self, inputs):\n",
        "    title = inputs[\"title\"]\n",
        "    text_body = inputs[\"text_body\"]\n",
        "    tags = inputs[\"tags\"]\n",
        "    features = self.concat_layer([title, text_body, tags])\n",
        "    features = self.mixing_layer(features)\n",
        "    priority = self.priority_scorer(features)\n",
        "    department = self.department_classifier(features)\n",
        "    return priority, department"
      ],
      "metadata": {
        "id": "aX2GPC1UDVlb"
      },
      "execution_count": null,
      "outputs": []
    },
    {
      "cell_type": "code",
      "source": [
        "model = CustomerTicketModel(num_departments=4)"
      ],
      "metadata": {
        "id": "OScI6tpTC-vQ"
      },
      "execution_count": null,
      "outputs": []
    },
    {
      "cell_type": "code",
      "source": [
        "priority, department = model(\n",
        "  {\"title\": title_data, \"text_body\": text_body_data, \"tags\": tags_data})"
      ],
      "metadata": {
        "id": "ukSF2t1eCwkX"
      },
      "execution_count": null,
      "outputs": []
    },
    {
      "cell_type": "code",
      "source": [
        "model.compile(optimizer=\"rmsprop\",\n",
        "              loss=[\"mean_spuared_error\", \"categorical_crossentropy\"],\n",
        "              metrics=[[\"mean_absolute_error\"], [\"accuracy\"]])"
      ],
      "metadata": {
        "id": "n8zYuRIp8WNU"
      },
      "execution_count": null,
      "outputs": []
    }
  ],
  "metadata": {
    "colab": {
      "provenance": [],
      "include_colab_link": true
    },
    "kernelspec": {
      "display_name": "Python 3 (ipykernel)",
      "language": "python",
      "name": "python3"
    },
    "language_info": {
      "codemirror_mode": {
        "name": "ipython",
        "version": 3
      },
      "file_extension": ".py",
      "mimetype": "text/x-python",
      "name": "python",
      "nbconvert_exporter": "python",
      "pygments_lexer": "ipython3",
      "version": "3.8.19"
    }
  },
  "nbformat": 4,
  "nbformat_minor": 0
}